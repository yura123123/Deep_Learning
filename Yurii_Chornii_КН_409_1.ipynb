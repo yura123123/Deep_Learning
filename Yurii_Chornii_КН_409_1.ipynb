{
  "nbformat": 4,
  "nbformat_minor": 0,
  "metadata": {
    "colab": {
      "name": "Yurii_Chornii_КН-409_1.ipynb",
      "provenance": [],
      "authorship_tag": "ABX9TyMT5Q9KobhJET3IVUuftAgF",
      "include_colab_link": true
    },
    "kernelspec": {
      "name": "python3",
      "display_name": "Python 3"
    },
    "language_info": {
      "name": "python"
    }
  },
  "cells": [
    {
      "cell_type": "markdown",
      "metadata": {
        "id": "view-in-github",
        "colab_type": "text"
      },
      "source": [
        "<a href=\"https://colab.research.google.com/github/yura123123/Deep_Learning/blob/main/Yurii_Chornii_%D0%9A%D0%9D_409_1.ipynb\" target=\"_parent\"><img src=\"https://colab.research.google.com/assets/colab-badge.svg\" alt=\"Open In Colab\"/></a>"
      ]
    },
    {
      "cell_type": "code",
      "execution_count": 1,
      "metadata": {
        "id": "aTqqz0fsJtRV"
      },
      "outputs": [],
      "source": [
        "import torch"
      ]
    },
    {
      "cell_type": "markdown",
      "source": [
        "Тензор представляє (можливо багатовимірний) масив числових значень. З однією віссю тензор називається вектором . З двома осями тензор називається матрицею . З k>2  осей, ми відкидаємо спеціалізовані назви й просто посилаємось на об’єкт як a  kth  тензор порядку ."
      ],
      "metadata": {
        "id": "fwQFrNkDLUw1"
      }
    },
    {
      "cell_type": "markdown",
      "source": [
        "PyTorch надає різноманітні функції для створення нових тензорів, попередньо заповнених значеннями. Наприклад, викликавши arange(n), ми можемо створити вектор рівномірно розташованих значень, починаючи з 0 (включено) і закінчуючи n(не включено). За замовчуванням розмір інтервалу дорівнює  1 . Якщо не вказано інше, нові тензори зберігаються в основній пам’яті та призначені для обчислень на основі ЦП."
      ],
      "metadata": {
        "id": "YIe8XQ8nLfv9"
      }
    },
    {
      "cell_type": "code",
      "source": [
        "x = torch.arange(12, dtype=torch.float32)\n",
        "x"
      ],
      "metadata": {
        "colab": {
          "base_uri": "https://localhost:8080/"
        },
        "id": "Ur4l9naBJ7Ym",
        "outputId": "cbf18b94-9602-4cab-be14-ddbe6ba81bfc"
      },
      "execution_count": 2,
      "outputs": [
        {
          "output_type": "execute_result",
          "data": {
            "text/plain": [
              "tensor([ 0.,  1.,  2.,  3.,  4.,  5.,  6.,  7.,  8.,  9., 10., 11.])"
            ]
          },
          "metadata": {},
          "execution_count": 2
        }
      ]
    },
    {
      "cell_type": "markdown",
      "source": [
        "Ми можемо отримати доступ до форми тензора (довжини вздовж кожної осі), перевіривши його shapeвластивість."
      ],
      "metadata": {
        "id": "8MAEWplyLouF"
      }
    },
    {
      "cell_type": "code",
      "source": [
        "x.shape"
      ],
      "metadata": {
        "colab": {
          "base_uri": "https://localhost:8080/"
        },
        "id": "hEmcq4GCJ9kN",
        "outputId": "48d7fd5a-e728-4960-bcf7-61b293d0b906"
      },
      "execution_count": 3,
      "outputs": [
        {
          "output_type": "execute_result",
          "data": {
            "text/plain": [
              "torch.Size([12])"
            ]
          },
          "metadata": {},
          "execution_count": 3
        }
      ]
    },
    {
      "cell_type": "markdown",
      "source": [
        "Якщо ми просто хочемо знати загальну кількість елементів у тензорі, тобто добуток усіх елементів фігури, ми можемо перевірити його розмір. Оскільки тут ми маємо справу з вектором, його одиничний елемент shapeідентичний його розміру."
      ],
      "metadata": {
        "id": "sQ-EGfnCLu0d"
      }
    },
    {
      "cell_type": "code",
      "source": [
        "x.numel()"
      ],
      "metadata": {
        "colab": {
          "base_uri": "https://localhost:8080/"
        },
        "id": "hlqwW7KRJ-B_",
        "outputId": "96ae9296-2e61-4e87-98c4-7769bbb49ede"
      },
      "execution_count": 4,
      "outputs": [
        {
          "output_type": "execute_result",
          "data": {
            "text/plain": [
              "12"
            ]
          },
          "metadata": {},
          "execution_count": 4
        }
      ]
    },
    {
      "cell_type": "markdown",
      "source": [
        "Щоб змінити форму тензора, не змінюючи ні кількості елементів, ні їх значень, ми можемо викликати reshapeфункцію. Наприклад, ми можемо перетворити наш тензор, x, з вектора-рядка з формою (12,) в матрицю з формою (3, 4). Цей новий тензор містить точно такі ж значення, але розглядає їх як матрицю, організовану у вигляді 3 рядків і 4 стовпців. Повторюю, хоча форма змінилася, елементи ні. Зверніть увагу, що розмір не змінюється шляхом зміни форми."
      ],
      "metadata": {
        "id": "qIm6E3jGLwX2"
      }
    },
    {
      "cell_type": "code",
      "source": [
        "X = x.reshape(3, 4)\n",
        "X"
      ],
      "metadata": {
        "colab": {
          "base_uri": "https://localhost:8080/"
        },
        "id": "Vp2yLrZ0KAKU",
        "outputId": "062fd4ad-3f2b-467f-adfc-c76625454265"
      },
      "execution_count": 5,
      "outputs": [
        {
          "output_type": "execute_result",
          "data": {
            "text/plain": [
              "tensor([[ 0.,  1.,  2.,  3.],\n",
              "        [ 4.,  5.,  6.,  7.],\n",
              "        [ 8.,  9., 10., 11.]])"
            ]
          },
          "metadata": {},
          "execution_count": 5
        }
      ]
    },
    {
      "cell_type": "markdown",
      "source": [
        "Як правило, ми хочемо, щоб наші матриці були ініціалізовані нулями, одиницями, деякими іншими константами або числами, випадковим чином відібраними з конкретного розподілу. Ми можемо створити тензор, що представляє тензор з усіма елементами, встановленими на 0 і формою (2, 3, 4) наступним чином:"
      ],
      "metadata": {
        "id": "9C7c9ZS-LzIl"
      }
    },
    {
      "cell_type": "code",
      "source": [
        "torch.zeros((2, 3, 4))"
      ],
      "metadata": {
        "colab": {
          "base_uri": "https://localhost:8080/"
        },
        "id": "T5cE-wFoKD_d",
        "outputId": "0feb7028-cadb-4dd3-a32a-1e4c9a80c740"
      },
      "execution_count": 6,
      "outputs": [
        {
          "output_type": "execute_result",
          "data": {
            "text/plain": [
              "tensor([[[0., 0., 0., 0.],\n",
              "         [0., 0., 0., 0.],\n",
              "         [0., 0., 0., 0.]],\n",
              "\n",
              "        [[0., 0., 0., 0.],\n",
              "         [0., 0., 0., 0.],\n",
              "         [0., 0., 0., 0.]]])"
            ]
          },
          "metadata": {},
          "execution_count": 6
        }
      ]
    },
    {
      "cell_type": "markdown",
      "source": [
        "Аналогічно, ми можемо створити тензори з кожним елементом, встановленим на 1, наступним чином:\n",
        "\n"
      ],
      "metadata": {
        "id": "hd5M64_-L2ss"
      }
    },
    {
      "cell_type": "code",
      "source": [
        "torch.ones((2, 3, 4))"
      ],
      "metadata": {
        "colab": {
          "base_uri": "https://localhost:8080/"
        },
        "id": "MXsxmlwaKFrM",
        "outputId": "455bc2e1-84fb-43fd-ee92-494995b51198"
      },
      "execution_count": 7,
      "outputs": [
        {
          "output_type": "execute_result",
          "data": {
            "text/plain": [
              "tensor([[[1., 1., 1., 1.],\n",
              "         [1., 1., 1., 1.],\n",
              "         [1., 1., 1., 1.]],\n",
              "\n",
              "        [[1., 1., 1., 1.],\n",
              "         [1., 1., 1., 1.],\n",
              "         [1., 1., 1., 1.]]])"
            ]
          },
          "metadata": {},
          "execution_count": 7
        }
      ]
    },
    {
      "cell_type": "markdown",
      "source": [
        "Часто ми хочемо випадковим чином вибрати значення для кожного елемента в тензорі з деякого розподілу ймовірностей. Наприклад, коли ми створюємо масиви, щоб служити параметрами в нейронній мережі, ми зазвичай ініціалізуємо їх значення випадковим чином. Наступний фрагмент створює тензор із формою (3, 4). Кожен з його елементів випадковим чином відбирається зі стандартного гауссового (нормального) розподілу із середнім значенням 0 і стандартним відхиленням 1."
      ],
      "metadata": {
        "id": "dLpdNpvwL65G"
      }
    },
    {
      "cell_type": "code",
      "source": [
        "torch.randn(3, 4)"
      ],
      "metadata": {
        "colab": {
          "base_uri": "https://localhost:8080/"
        },
        "id": "XT_oE6FRKHlc",
        "outputId": "2b882253-d5b5-405c-df2f-296641e0fdc2"
      },
      "execution_count": 8,
      "outputs": [
        {
          "output_type": "execute_result",
          "data": {
            "text/plain": [
              "tensor([[-0.2949,  0.3719, -0.1487, -0.8726],\n",
              "        [-0.5196,  0.1256,  1.9088, -1.0010],\n",
              "        [-0.1920, -1.2726,  0.5842,  1.2233]])"
            ]
          },
          "metadata": {},
          "execution_count": 8
        }
      ]
    },
    {
      "cell_type": "markdown",
      "source": [
        "Ми також можемо вказати точні значення для кожного елемента в потрібному тензорі, надавши список Python (або список списків), що містить числові значення. Тут крайній список відповідає осі 0, а внутрішній список — осі 1.\n",
        "\n"
      ],
      "metadata": {
        "id": "aH7GUGUSL-ok"
      }
    },
    {
      "cell_type": "code",
      "source": [
        "torch.tensor([[2, 1, 4, 3], [1, 2, 3, 4], [4, 3, 2, 1]])"
      ],
      "metadata": {
        "colab": {
          "base_uri": "https://localhost:8080/"
        },
        "id": "DOH85T-KKJK8",
        "outputId": "b60789ed-fa7a-48ef-896c-32bc3b7f5023"
      },
      "execution_count": 9,
      "outputs": [
        {
          "output_type": "execute_result",
          "data": {
            "text/plain": [
              "tensor([[2, 1, 4, 3],\n",
              "        [1, 2, 3, 4],\n",
              "        [4, 3, 2, 1]])"
            ]
          },
          "metadata": {},
          "execution_count": 9
        }
      ]
    },
    {
      "cell_type": "markdown",
      "source": [
        "Загальні стандартні арифметичні оператори ( +, -, *, /, і **) були зняті до поелементних операцій.\n",
        "\n"
      ],
      "metadata": {
        "id": "pOB9JqP2MA4l"
      }
    },
    {
      "cell_type": "code",
      "source": [
        "x = torch.tensor([1.0, 2, 4, 8])\n",
        "y = torch.tensor([2, 2, 2, 2])\n",
        "x + y, x - y, x * y, x / y, x ** y  # The ** operator is exponentiation"
      ],
      "metadata": {
        "colab": {
          "base_uri": "https://localhost:8080/"
        },
        "id": "kew0HppDKLsl",
        "outputId": "c772c7a9-4e02-42ca-dfb2-511eb96378ed"
      },
      "execution_count": 10,
      "outputs": [
        {
          "output_type": "execute_result",
          "data": {
            "text/plain": [
              "(tensor([ 3.,  4.,  6., 10.]),\n",
              " tensor([-1.,  0.,  2.,  6.]),\n",
              " tensor([ 2.,  4.,  8., 16.]),\n",
              " tensor([0.5000, 1.0000, 2.0000, 4.0000]),\n",
              " tensor([ 1.,  4., 16., 64.]))"
            ]
          },
          "metadata": {},
          "execution_count": 10
        }
      ]
    },
    {
      "cell_type": "markdown",
      "source": [
        "Багато інших операцій можна застосовувати поелементно, включаючи унарні оператори, такі як підведення до степеня.\n",
        "\n"
      ],
      "metadata": {
        "id": "vse7bIddMVhV"
      }
    },
    {
      "cell_type": "code",
      "source": [
        "torch.exp(x)"
      ],
      "metadata": {
        "colab": {
          "base_uri": "https://localhost:8080/"
        },
        "id": "wL4esMAHKM9E",
        "outputId": "fba8dd8a-9136-4fe4-8d25-4a5d8d4a8d7d"
      },
      "execution_count": 11,
      "outputs": [
        {
          "output_type": "execute_result",
          "data": {
            "text/plain": [
              "tensor([2.7183e+00, 7.3891e+00, 5.4598e+01, 2.9810e+03])"
            ]
          },
          "metadata": {},
          "execution_count": 11
        }
      ]
    },
    {
      "cell_type": "markdown",
      "source": [
        "Ми також можемо об’єднати кілька тензорів разом, складаючи їх кінець в кінець, щоб утворити більший тензор. Нам просто потрібно надати список тензорів і вказати системі, вздовж якої осі потрібно об’єднатися. Наведений нижче приклад показує, що відбувається, коли ми об’єднуємо дві матриці вздовж рядків (вісь 0, перший елемент фігури) і стовпців (вісь 1, другий елемент фігури). Ми бачимо, що довжина осі 0 першого вихідного тензора ( 6 ) є сумою довжин осі 0 двох вхідних тензорів ( 3+3 ); тоді як довжина осі другого вихідного тензора-1 ( 8 ) є сумою довжин осі-1 двох вхідних тензорів ( 4+4 ).\n",
        "\n",
        "MXNET"
      ],
      "metadata": {
        "id": "7AVPypPWMtLd"
      }
    },
    {
      "cell_type": "code",
      "source": [
        "X = torch.arange(12, dtype=torch.float32).reshape((3,4))\n",
        "Y = torch.tensor([[2.0, 1, 4, 3], [1, 2, 3, 4], [4, 3, 2, 1]])\n",
        "torch.cat((X, Y), dim=0), torch.cat((X, Y), dim=1)"
      ],
      "metadata": {
        "colab": {
          "base_uri": "https://localhost:8080/"
        },
        "id": "O3W0IVq-KOuM",
        "outputId": "e50bcf9c-504b-43a4-f435-532c3012f4c7"
      },
      "execution_count": 12,
      "outputs": [
        {
          "output_type": "execute_result",
          "data": {
            "text/plain": [
              "(tensor([[ 0.,  1.,  2.,  3.],\n",
              "         [ 4.,  5.,  6.,  7.],\n",
              "         [ 8.,  9., 10., 11.],\n",
              "         [ 2.,  1.,  4.,  3.],\n",
              "         [ 1.,  2.,  3.,  4.],\n",
              "         [ 4.,  3.,  2.,  1.]]),\n",
              " tensor([[ 0.,  1.,  2.,  3.,  2.,  1.,  4.,  3.],\n",
              "         [ 4.,  5.,  6.,  7.,  1.,  2.,  3.,  4.],\n",
              "         [ 8.,  9., 10., 11.,  4.,  3.,  2.,  1.]]))"
            ]
          },
          "metadata": {},
          "execution_count": 12
        }
      ]
    },
    {
      "cell_type": "markdown",
      "source": [
        "Іноді ми хочемо побудувати двійковий тензор за допомогою логічних операторів . Візьмемо як приклад. Для кожної позиції, якщо і рівні в цій позиції, відповідний запис у новому тензорі приймає значення 1, що означає, що логічний твердження є істинним у цій позиції; інакше ця позиція приймає 0.X == YXYX == Y"
      ],
      "metadata": {
        "id": "PN4YD21BMzr2"
      }
    },
    {
      "cell_type": "code",
      "source": [
        "X == Y"
      ],
      "metadata": {
        "colab": {
          "base_uri": "https://localhost:8080/"
        },
        "id": "VAef0p0pKQJT",
        "outputId": "b8cd1e5b-15d1-4b76-9c61-d2b79fe8f1c9"
      },
      "execution_count": 13,
      "outputs": [
        {
          "output_type": "execute_result",
          "data": {
            "text/plain": [
              "tensor([[False,  True, False,  True],\n",
              "        [False, False, False, False],\n",
              "        [False, False, False, False]])"
            ]
          },
          "metadata": {},
          "execution_count": 13
        }
      ]
    },
    {
      "cell_type": "markdown",
      "source": [
        "Підсумовуючи всі елементи тензора, виходить тензор лише з одним елементом.\n",
        "\n"
      ],
      "metadata": {
        "id": "FIijhkuuM1XN"
      }
    },
    {
      "cell_type": "code",
      "source": [
        "X.sum()"
      ],
      "metadata": {
        "colab": {
          "base_uri": "https://localhost:8080/"
        },
        "id": "jVoYGkaxKQPk",
        "outputId": "58b2a410-0a46-4802-d05f-6f51cd4a0476"
      },
      "execution_count": 14,
      "outputs": [
        {
          "output_type": "execute_result",
          "data": {
            "text/plain": [
              "tensor(66.)"
            ]
          },
          "metadata": {},
          "execution_count": 14
        }
      ]
    },
    {
      "cell_type": "markdown",
      "source": [
        "У більшості випадків ми транслюємо по осі, де масив спочатку має лише довжину 1, як-от у наступному прикладі:\n",
        "\n"
      ],
      "metadata": {
        "id": "z-P5fiHPM9RN"
      }
    },
    {
      "cell_type": "code",
      "source": [
        "a = torch.arange(3).reshape((3, 1))\n",
        "b = torch.arange(2).reshape((1, 2))\n",
        "a, b"
      ],
      "metadata": {
        "colab": {
          "base_uri": "https://localhost:8080/"
        },
        "id": "mKDa_95iKTFX",
        "outputId": "2b3938fd-add8-4e4e-8198-c373a50b8d2d"
      },
      "execution_count": 15,
      "outputs": [
        {
          "output_type": "execute_result",
          "data": {
            "text/plain": [
              "(tensor([[0],\n",
              "         [1],\n",
              "         [2]]), tensor([[0, 1]]))"
            ]
          },
          "metadata": {},
          "execution_count": 15
        }
      ]
    },
    {
      "cell_type": "markdown",
      "source": [
        "Оскільки aі bє 3×1  і  1×2 відповідно, їх форми не збігаються, якщо ми хочемо їх додати. Ми транслюємо записи обох матриць у більшу 3×2  матриця так: для матриці aвона реплікує стовпці, а для матриці bреплікує рядки перед поелементним додаванням обох."
      ],
      "metadata": {
        "id": "hduzdomEM-Ak"
      }
    },
    {
      "cell_type": "code",
      "source": [
        "a + b"
      ],
      "metadata": {
        "colab": {
          "base_uri": "https://localhost:8080/"
        },
        "id": "HNfiFKZ9KVaV",
        "outputId": "31552877-ecea-4fef-be43-6b955910a7e6"
      },
      "execution_count": 16,
      "outputs": [
        {
          "output_type": "execute_result",
          "data": {
            "text/plain": [
              "tensor([[0, 1],\n",
              "        [1, 2],\n",
              "        [2, 3]])"
            ]
          },
          "metadata": {},
          "execution_count": 16
        }
      ]
    },
    {
      "cell_type": "markdown",
      "source": [
        "Таким чином, [-1]вибирає останній елемент і [1:3]вибирає другий і третій елементи наступним чином:\n",
        "\n"
      ],
      "metadata": {
        "id": "5FoFaprsNDFe"
      }
    },
    {
      "cell_type": "code",
      "source": [
        "X[-1], X[1:3]"
      ],
      "metadata": {
        "colab": {
          "base_uri": "https://localhost:8080/"
        },
        "id": "-xachfzeKXD8",
        "outputId": "4310a977-a3b2-497e-846a-6c8395e4b59a"
      },
      "execution_count": 17,
      "outputs": [
        {
          "output_type": "execute_result",
          "data": {
            "text/plain": [
              "(tensor([ 8.,  9., 10., 11.]), tensor([[ 4.,  5.,  6.,  7.],\n",
              "         [ 8.,  9., 10., 11.]]))"
            ]
          },
          "metadata": {},
          "execution_count": 17
        }
      ]
    },
    {
      "cell_type": "markdown",
      "source": [
        "Крім читання, ми також можемо записувати елементи матриці, вказуючи індекси.\n",
        "\n"
      ],
      "metadata": {
        "id": "TCyrfj4ANEBU"
      }
    },
    {
      "cell_type": "code",
      "source": [
        "X[1, 2] = 9\n",
        "X"
      ],
      "metadata": {
        "colab": {
          "base_uri": "https://localhost:8080/"
        },
        "id": "qEJY_81iKYRE",
        "outputId": "0fc35d86-00ab-4937-fe01-5bc26bee3284"
      },
      "execution_count": 18,
      "outputs": [
        {
          "output_type": "execute_result",
          "data": {
            "text/plain": [
              "tensor([[ 0.,  1.,  2.,  3.],\n",
              "        [ 4.,  5.,  9.,  7.],\n",
              "        [ 8.,  9., 10., 11.]])"
            ]
          },
          "metadata": {},
          "execution_count": 18
        }
      ]
    },
    {
      "cell_type": "markdown",
      "source": [
        "Якщо ми хочемо призначити кільком елементам однакове значення, ми просто індексуємо всі з них, а потім призначаємо їм значення. Наприклад, звертається до першого та другого рядків, де бере всі елементи вздовж осі 1 (стовпця). Хоча ми обговорювали індексацію для матриць, це, очевидно, також працює для векторів і тензорів більше ніж 2 вимірів.[0:2, :]:\n",
        "\n"
      ],
      "metadata": {
        "id": "WhcOV-B3NFvs"
      }
    },
    {
      "cell_type": "code",
      "source": [
        "X[0:2, :] = 12\n",
        "X"
      ],
      "metadata": {
        "colab": {
          "base_uri": "https://localhost:8080/"
        },
        "id": "W8Vq8qWOKZ8c",
        "outputId": "38d98569-98a8-4cf0-9160-d612f6a43e16"
      },
      "execution_count": 19,
      "outputs": [
        {
          "output_type": "execute_result",
          "data": {
            "text/plain": [
              "tensor([[12., 12., 12., 12.],\n",
              "        [12., 12., 12., 12.],\n",
              "        [ 8.,  9., 10., 11.]])"
            ]
          },
          "metadata": {},
          "execution_count": 19
        }
      ]
    },
    {
      "cell_type": "markdown",
      "source": [
        "Виконання операцій може призвести до виділення нової пам’яті для результатів хоста. Наприклад, якщо ми напишемо , ми розіменуємо тензор, який раніше вказував на щойно виділену пам’ять, а замість цього вказував на неї. У наступному прикладі ми демонструємо це за допомогою функції Python , яка дає нам точну адресу об’єкта, на який посилається, у пам’яті. Після запуску ми виявимо, що це вказує на інше місце. Це тому, що Python спочатку оцінює , виділяючи нову пам’ять для результату, а потім вказує на це нове місце в пам’яті.Y = X + YYYid()Y = Y + Xid(Y)Y + XY\n",
        "\n"
      ],
      "metadata": {
        "id": "FBmX296nNH3l"
      }
    },
    {
      "cell_type": "code",
      "source": [
        "before = id(Y)\n",
        "Y = Y + X\n",
        "id(Y) == before"
      ],
      "metadata": {
        "colab": {
          "base_uri": "https://localhost:8080/"
        },
        "id": "U4ruRwJPKbfc",
        "outputId": "00147533-bfc5-4adf-c01e-3befd78246e4"
      },
      "execution_count": 20,
      "outputs": [
        {
          "output_type": "execute_result",
          "data": {
            "text/plain": [
              "False"
            ]
          },
          "metadata": {},
          "execution_count": 20
        }
      ]
    },
    {
      "cell_type": "markdown",
      "source": [
        "Це може бути небажаним з двох причин. По-перше, ми не хочемо весь час бігати, виділяючи без потреби пам’ять. У машинному навчанні ми можемо мати сотні мегабайт параметрів і оновлювати всі їх кілька разів на секунду. Як правило, ми хочемо виконувати ці оновлення на місці . По-друге, ми можемо вказати на ті самі параметри з кількох змінних. Якщо ми не оновлюємо на місці, інші посилання все одно вказуватимуть на старе розташування пам’яті, що дозволить частинам нашого коду ненавмисно посилатися на застарілі параметри.\n",
        "\n"
      ],
      "metadata": {
        "id": "5orHKe5oNKjF"
      }
    },
    {
      "cell_type": "markdown",
      "source": [
        "На щастя, виконувати операції на місці легко. Ми можемо призначити результат операції раніше виділеному масиву за допомогою позначення зрізу, наприклад, . Щоб проілюструвати цю концепцію, ми спочатку створюємо нову матрицю з такою ж формою, що й інша , використовуючи для виділення блокуY[:] = <expression>ZYzeros_like 0  записи."
      ],
      "metadata": {
        "id": "GFZhc0UiNMiU"
      }
    },
    {
      "cell_type": "code",
      "source": [
        "Z = torch.zeros_like(Y)\n",
        "print('id(Z):', id(Z))\n",
        "Z[:] = X + Y\n",
        "print('id(Z):', id(Z))"
      ],
      "metadata": {
        "colab": {
          "base_uri": "https://localhost:8080/"
        },
        "id": "s73OjwQyKsIE",
        "outputId": "a55c6d08-b45d-487c-ece8-4ac55ade9574"
      },
      "execution_count": 21,
      "outputs": [
        {
          "output_type": "stream",
          "name": "stdout",
          "text": [
            "id(Z): 140082508742192\n",
            "id(Z): 140082508742192\n"
          ]
        }
      ]
    },
    {
      "cell_type": "markdown",
      "source": [
        "Якщо значення Xне використовується повторно в наступних обчисленнях, ми також можемо використовувати або зменшити накладні витрати на пам’ять операції.X[:] = X + YX += Y\n",
        "\n"
      ],
      "metadata": {
        "id": "Typ__HIhNPEU"
      }
    },
    {
      "cell_type": "code",
      "source": [
        "before = id(X)\n",
        "X += Y\n",
        "id(X) == before"
      ],
      "metadata": {
        "colab": {
          "base_uri": "https://localhost:8080/"
        },
        "id": "9-KAWYmHKtkU",
        "outputId": "3f346e4a-ec06-4626-b167-ecee968cea9f"
      },
      "execution_count": 22,
      "outputs": [
        {
          "output_type": "execute_result",
          "data": {
            "text/plain": [
              "True"
            ]
          },
          "metadata": {},
          "execution_count": 22
        }
      ]
    },
    {
      "cell_type": "markdown",
      "source": [
        "Перетворення в тензор NumPy ( ndarray) або навпаки легко. Тензор факела і масив numpy будуть ділитися своїми основними місцями пам’яті, і зміна одного за допомогою операції на місці також змінить інше.\n",
        "\n"
      ],
      "metadata": {
        "id": "1HKY5WmtNRtt"
      }
    },
    {
      "cell_type": "code",
      "source": [
        "A = X.numpy()\n",
        "B = torch.from_numpy(A)\n",
        "type(A), type(B)"
      ],
      "metadata": {
        "colab": {
          "base_uri": "https://localhost:8080/"
        },
        "id": "5WPiVZpaKu9l",
        "outputId": "b4cce7a9-e566-4bcf-e2fb-2dff9646fade"
      },
      "execution_count": 23,
      "outputs": [
        {
          "output_type": "execute_result",
          "data": {
            "text/plain": [
              "(numpy.ndarray, torch.Tensor)"
            ]
          },
          "metadata": {},
          "execution_count": 23
        }
      ]
    },
    {
      "cell_type": "markdown",
      "source": [
        "Щоб перетворити тензор розміру 1 у скаляр Python, ми можемо викликати itemфункцію або вбудовані функції Python.\n",
        "\n"
      ],
      "metadata": {
        "id": "JF8tVO9fNVEN"
      }
    },
    {
      "cell_type": "code",
      "source": [
        "a = torch.tensor([3.5])\n",
        "a, a.item(), float(a), int(a)"
      ],
      "metadata": {
        "colab": {
          "base_uri": "https://localhost:8080/"
        },
        "id": "gPR4CVwmKwKM",
        "outputId": "c3198abe-c511-462e-c081-aef01e126a74"
      },
      "execution_count": 24,
      "outputs": [
        {
          "output_type": "execute_result",
          "data": {
            "text/plain": [
              "(tensor([3.5000]), 3.5, 3.5, 3)"
            ]
          },
          "metadata": {},
          "execution_count": 24
        }
      ]
    }
  ]
}