{
  "nbformat": 4,
  "nbformat_minor": 0,
  "metadata": {
    "colab": {
      "name": "Chornii_Yurii_5.ipynb",
      "provenance": [],
      "collapsed_sections": [],
      "include_colab_link": true
    },
    "kernelspec": {
      "name": "python3",
      "display_name": "Python 3"
    },
    "language_info": {
      "name": "python"
    },
    "accelerator": "GPU",
    "widgets": {
      "application/vnd.jupyter.widget-state+json": {
        "6b3d3a9fc59a4bbfbe9b54a4b962f54c": {
          "model_module": "@jupyter-widgets/controls",
          "model_name": "HBoxModel",
          "model_module_version": "1.5.0",
          "state": {
            "_view_name": "HBoxView",
            "_dom_classes": [],
            "_model_name": "HBoxModel",
            "_view_module": "@jupyter-widgets/controls",
            "_model_module_version": "1.5.0",
            "_view_count": null,
            "_view_module_version": "1.5.0",
            "box_style": "",
            "layout": "IPY_MODEL_62f24c7e3c8448a5a56bf250eb258ef3",
            "_model_module": "@jupyter-widgets/controls",
            "children": [
              "IPY_MODEL_a37052d6df8849b5b01e1d4831cb9daa",
              "IPY_MODEL_aa80e9749b45434c9bb0388de8069be9",
              "IPY_MODEL_9578a50588a74b1cb7998893ee428ed6"
            ]
          }
        },
        "62f24c7e3c8448a5a56bf250eb258ef3": {
          "model_module": "@jupyter-widgets/base",
          "model_name": "LayoutModel",
          "model_module_version": "1.2.0",
          "state": {
            "_view_name": "LayoutView",
            "grid_template_rows": null,
            "right": null,
            "justify_content": null,
            "_view_module": "@jupyter-widgets/base",
            "overflow": null,
            "_model_module_version": "1.2.0",
            "_view_count": null,
            "flex_flow": null,
            "width": null,
            "min_width": null,
            "border": null,
            "align_items": null,
            "bottom": null,
            "_model_module": "@jupyter-widgets/base",
            "top": null,
            "grid_column": null,
            "overflow_y": null,
            "overflow_x": null,
            "grid_auto_flow": null,
            "grid_area": null,
            "grid_template_columns": null,
            "flex": null,
            "_model_name": "LayoutModel",
            "justify_items": null,
            "grid_row": null,
            "max_height": null,
            "align_content": null,
            "visibility": null,
            "align_self": null,
            "height": null,
            "min_height": null,
            "padding": null,
            "grid_auto_rows": null,
            "grid_gap": null,
            "max_width": null,
            "order": null,
            "_view_module_version": "1.2.0",
            "grid_template_areas": null,
            "object_position": null,
            "object_fit": null,
            "grid_auto_columns": null,
            "margin": null,
            "display": null,
            "left": null
          }
        },
        "a37052d6df8849b5b01e1d4831cb9daa": {
          "model_module": "@jupyter-widgets/controls",
          "model_name": "HTMLModel",
          "model_module_version": "1.5.0",
          "state": {
            "_view_name": "HTMLView",
            "style": "IPY_MODEL_e986fbd4380149658fba70174e12fb37",
            "_dom_classes": [],
            "description": "",
            "_model_name": "HTMLModel",
            "placeholder": "​",
            "_view_module": "@jupyter-widgets/controls",
            "_model_module_version": "1.5.0",
            "value": "100%",
            "_view_count": null,
            "_view_module_version": "1.5.0",
            "description_tooltip": null,
            "_model_module": "@jupyter-widgets/controls",
            "layout": "IPY_MODEL_e9e23c87fb4642e4a5190fa4255c379d"
          }
        },
        "aa80e9749b45434c9bb0388de8069be9": {
          "model_module": "@jupyter-widgets/controls",
          "model_name": "FloatProgressModel",
          "model_module_version": "1.5.0",
          "state": {
            "_view_name": "ProgressView",
            "style": "IPY_MODEL_464d5e0ee4814103843d47acaf3ef7de",
            "_dom_classes": [],
            "description": "",
            "_model_name": "FloatProgressModel",
            "bar_style": "success",
            "max": 138223492,
            "_view_module": "@jupyter-widgets/controls",
            "_model_module_version": "1.5.0",
            "value": 138223492,
            "_view_count": null,
            "_view_module_version": "1.5.0",
            "orientation": "horizontal",
            "min": 0,
            "description_tooltip": null,
            "_model_module": "@jupyter-widgets/controls",
            "layout": "IPY_MODEL_83ba5158f9d5496d9c12936f8da40182"
          }
        },
        "9578a50588a74b1cb7998893ee428ed6": {
          "model_module": "@jupyter-widgets/controls",
          "model_name": "HTMLModel",
          "model_module_version": "1.5.0",
          "state": {
            "_view_name": "HTMLView",
            "style": "IPY_MODEL_22a390af18e941149f2bd935e851ed0e",
            "_dom_classes": [],
            "description": "",
            "_model_name": "HTMLModel",
            "placeholder": "​",
            "_view_module": "@jupyter-widgets/controls",
            "_model_module_version": "1.5.0",
            "value": " 132M/132M [00:02&lt;00:00, 93.7MB/s]",
            "_view_count": null,
            "_view_module_version": "1.5.0",
            "description_tooltip": null,
            "_model_module": "@jupyter-widgets/controls",
            "layout": "IPY_MODEL_e3627cd8a91949a7b1a99751137cc5c9"
          }
        },
        "e986fbd4380149658fba70174e12fb37": {
          "model_module": "@jupyter-widgets/controls",
          "model_name": "DescriptionStyleModel",
          "model_module_version": "1.5.0",
          "state": {
            "_view_name": "StyleView",
            "_model_name": "DescriptionStyleModel",
            "description_width": "",
            "_view_module": "@jupyter-widgets/base",
            "_model_module_version": "1.5.0",
            "_view_count": null,
            "_view_module_version": "1.2.0",
            "_model_module": "@jupyter-widgets/controls"
          }
        },
        "e9e23c87fb4642e4a5190fa4255c379d": {
          "model_module": "@jupyter-widgets/base",
          "model_name": "LayoutModel",
          "model_module_version": "1.2.0",
          "state": {
            "_view_name": "LayoutView",
            "grid_template_rows": null,
            "right": null,
            "justify_content": null,
            "_view_module": "@jupyter-widgets/base",
            "overflow": null,
            "_model_module_version": "1.2.0",
            "_view_count": null,
            "flex_flow": null,
            "width": null,
            "min_width": null,
            "border": null,
            "align_items": null,
            "bottom": null,
            "_model_module": "@jupyter-widgets/base",
            "top": null,
            "grid_column": null,
            "overflow_y": null,
            "overflow_x": null,
            "grid_auto_flow": null,
            "grid_area": null,
            "grid_template_columns": null,
            "flex": null,
            "_model_name": "LayoutModel",
            "justify_items": null,
            "grid_row": null,
            "max_height": null,
            "align_content": null,
            "visibility": null,
            "align_self": null,
            "height": null,
            "min_height": null,
            "padding": null,
            "grid_auto_rows": null,
            "grid_gap": null,
            "max_width": null,
            "order": null,
            "_view_module_version": "1.2.0",
            "grid_template_areas": null,
            "object_position": null,
            "object_fit": null,
            "grid_auto_columns": null,
            "margin": null,
            "display": null,
            "left": null
          }
        },
        "464d5e0ee4814103843d47acaf3ef7de": {
          "model_module": "@jupyter-widgets/controls",
          "model_name": "ProgressStyleModel",
          "model_module_version": "1.5.0",
          "state": {
            "_view_name": "StyleView",
            "_model_name": "ProgressStyleModel",
            "description_width": "",
            "_view_module": "@jupyter-widgets/base",
            "_model_module_version": "1.5.0",
            "_view_count": null,
            "_view_module_version": "1.2.0",
            "bar_color": null,
            "_model_module": "@jupyter-widgets/controls"
          }
        },
        "83ba5158f9d5496d9c12936f8da40182": {
          "model_module": "@jupyter-widgets/base",
          "model_name": "LayoutModel",
          "model_module_version": "1.2.0",
          "state": {
            "_view_name": "LayoutView",
            "grid_template_rows": null,
            "right": null,
            "justify_content": null,
            "_view_module": "@jupyter-widgets/base",
            "overflow": null,
            "_model_module_version": "1.2.0",
            "_view_count": null,
            "flex_flow": null,
            "width": null,
            "min_width": null,
            "border": null,
            "align_items": null,
            "bottom": null,
            "_model_module": "@jupyter-widgets/base",
            "top": null,
            "grid_column": null,
            "overflow_y": null,
            "overflow_x": null,
            "grid_auto_flow": null,
            "grid_area": null,
            "grid_template_columns": null,
            "flex": null,
            "_model_name": "LayoutModel",
            "justify_items": null,
            "grid_row": null,
            "max_height": null,
            "align_content": null,
            "visibility": null,
            "align_self": null,
            "height": null,
            "min_height": null,
            "padding": null,
            "grid_auto_rows": null,
            "grid_gap": null,
            "max_width": null,
            "order": null,
            "_view_module_version": "1.2.0",
            "grid_template_areas": null,
            "object_position": null,
            "object_fit": null,
            "grid_auto_columns": null,
            "margin": null,
            "display": null,
            "left": null
          }
        },
        "22a390af18e941149f2bd935e851ed0e": {
          "model_module": "@jupyter-widgets/controls",
          "model_name": "DescriptionStyleModel",
          "model_module_version": "1.5.0",
          "state": {
            "_view_name": "StyleView",
            "_model_name": "DescriptionStyleModel",
            "description_width": "",
            "_view_module": "@jupyter-widgets/base",
            "_model_module_version": "1.5.0",
            "_view_count": null,
            "_view_module_version": "1.2.0",
            "_model_module": "@jupyter-widgets/controls"
          }
        },
        "e3627cd8a91949a7b1a99751137cc5c9": {
          "model_module": "@jupyter-widgets/base",
          "model_name": "LayoutModel",
          "model_module_version": "1.2.0",
          "state": {
            "_view_name": "LayoutView",
            "grid_template_rows": null,
            "right": null,
            "justify_content": null,
            "_view_module": "@jupyter-widgets/base",
            "overflow": null,
            "_model_module_version": "1.2.0",
            "_view_count": null,
            "flex_flow": null,
            "width": null,
            "min_width": null,
            "border": null,
            "align_items": null,
            "bottom": null,
            "_model_module": "@jupyter-widgets/base",
            "top": null,
            "grid_column": null,
            "overflow_y": null,
            "overflow_x": null,
            "grid_auto_flow": null,
            "grid_area": null,
            "grid_template_columns": null,
            "flex": null,
            "_model_name": "LayoutModel",
            "justify_items": null,
            "grid_row": null,
            "max_height": null,
            "align_content": null,
            "visibility": null,
            "align_self": null,
            "height": null,
            "min_height": null,
            "padding": null,
            "grid_auto_rows": null,
            "grid_gap": null,
            "max_width": null,
            "order": null,
            "_view_module_version": "1.2.0",
            "grid_template_areas": null,
            "object_position": null,
            "object_fit": null,
            "grid_auto_columns": null,
            "margin": null,
            "display": null,
            "left": null
          }
        }
      }
    }
  },
  "cells": [
    {
      "cell_type": "markdown",
      "metadata": {
        "id": "view-in-github",
        "colab_type": "text"
      },
      "source": [
        "<a href=\"https://colab.research.google.com/github/yura123123/Deep_Learning/blob/main/Chornii_Yurii_5.ipynb\" target=\"_parent\"><img src=\"https://colab.research.google.com/assets/colab-badge.svg\" alt=\"Open In Colab\"/></a>"
      ]
    },
    {
      "cell_type": "markdown",
      "source": [
        "Imports"
      ],
      "metadata": {
        "id": "q5MXLCsJ1HQu"
      }
    },
    {
      "cell_type": "code",
      "metadata": {
        "id": "O4Lp5DFEiCeK"
      },
      "source": [
        "import matplotlib.pyplot as plt\n",
        "import matplotlib\n",
        "import joblib\n",
        "import cv2\n",
        "import os\n",
        "import torch \n",
        "import numpy as np\n",
        "import torch.nn as nn\n",
        "import torch.nn.functional as F\n",
        "import torch.optim as optim\n",
        "import time\n",
        "import random\n",
        "from torchvision import models\n",
        "from torchsummary import summary\n",
        "from imutils import paths\n",
        "from sklearn.preprocessing import LabelBinarizer\n",
        "from sklearn.model_selection import train_test_split\n",
        "from torchvision.transforms import transforms\n",
        "from torch.utils.data import DataLoader, Dataset\n",
        "from tqdm import tqdm\n",
        "matplotlib.style.use('ggplot')\n",
        "'''SEED Everything'''\n",
        "def seed_everything(SEED=42):\n",
        "    random.seed(SEED)\n",
        "    np.random.seed(SEED)\n",
        "    torch.manual_seed(SEED)\n",
        "    torch.cuda.manual_seed(SEED)\n",
        "    torch.cuda.manual_seed_all(SEED)\n",
        "    torch.backends.cudnn.benchmark = True # keep True if all the input have same size.\n",
        "SEED=42\n",
        "seed_everything(SEED=SEED)"
      ],
      "execution_count": 7,
      "outputs": []
    },
    {
      "cell_type": "code",
      "source": [
        "from google.colab import drive\n",
        "drive.mount('/content/drive')"
      ],
      "metadata": {
        "id": "_b_ID2vCfR6x",
        "outputId": "601b9986-e057-4180-b7c5-c6d051623931",
        "colab": {
          "base_uri": "https://localhost:8080/"
        }
      },
      "execution_count": 8,
      "outputs": [
        {
          "output_type": "stream",
          "name": "stdout",
          "text": [
            "Drive already mounted at /content/drive; to attempt to forcibly remount, call drive.mount(\"/content/drive\", force_remount=True).\n"
          ]
        }
      ]
    },
    {
      "cell_type": "code",
      "metadata": {
        "colab": {
          "base_uri": "https://localhost:8080/"
        },
        "id": "b6sEEA1YiWmh",
        "outputId": "f723c9ee-1f76-47b9-cbd4-d13637b1f244"
      },
      "source": [
        "train_transform = transforms.Compose(\n",
        "    [transforms.ToPILImage(),\n",
        "     transforms.Resize((224, 224)),\n",
        "     transforms.ToTensor(),\n",
        "     transforms.Normalize(mean=[0.485, 0.456, 0.406],\n",
        "                          std=[0.229, 0.224, 0.225])])\n",
        "val_transform = transforms.Compose(\n",
        "    [transforms.ToPILImage(),\n",
        "     transforms.Resize((224, 224)),\n",
        "     transforms.ToTensor(),\n",
        "     transforms.Normalize(mean=[0.485, 0.456, 0.406],\n",
        "                          std=[0.229, 0.224, 0.225])])\n",
        "\n",
        "batch_size = 16\n",
        "epochs = 10\n",
        "device = torch.device(\"cuda:0\" if torch.cuda.is_available() else \"cpu\")\n",
        "\n",
        "image_paths = list(paths.list_images('/content/drive/MyDrive/101_ObjectCategories'))\n",
        "data = []\n",
        "labels = []\n",
        "for image_path in image_paths:\n",
        "    label = image_path.split(os.path.sep)[-2]\n",
        "    if label == 'BACKGROUND_Google':\n",
        "        continue\n",
        "    image = cv2.imread(image_path)\n",
        "    image = cv2.cvtColor(image, cv2.COLOR_BGR2RGB)\n",
        "    data.append(image)\n",
        "    labels.append(label)\n",
        "data = np.array(data)\n",
        "labels = np.array(labels)\n",
        "\n",
        "lb = LabelBinarizer()\n",
        "labels = lb.fit_transform(labels)\n",
        "print(f\"Total number of classes: {len(lb.classes_)}\")\n",
        "\n",
        "# divide the data into train, validation, and test set\n",
        "(x_train, x_test, y_train, y_test) = train_test_split(data, labels, \n",
        "                                                    test_size=0.2,  \n",
        "                                                    stratify=labels,\n",
        "                                                    random_state=42)\n",
        "\n",
        "class ImageDataset(Dataset):\n",
        "    def __init__(self, images, labels=None, transforms=None):\n",
        "        self.X = images\n",
        "        self.y = labels\n",
        "        self.transforms = transforms\n",
        "         \n",
        "    def __len__(self):\n",
        "        return (len(self.X))\n",
        "    \n",
        "    def __getitem__(self, i):\n",
        "        data = self.X[i][:]\n",
        "        \n",
        "        if self.transforms:\n",
        "            data = self.transforms(data)\n",
        "            \n",
        "        if self.y is not None:\n",
        "            return (data, self.y[i])\n",
        "        else:\n",
        "            return data\n",
        "\n",
        "train_data = ImageDataset(x_train, y_train, train_transform)\n",
        "test_data = ImageDataset(x_test, y_test, val_transform)\n",
        "\n",
        "print(f\"x_train examples: {x_train.shape}\\nx_test examples: {x_test.shape}\")"
      ],
      "execution_count": 9,
      "outputs": [
        {
          "output_type": "stream",
          "name": "stderr",
          "text": [
            "/usr/local/lib/python3.7/dist-packages/ipykernel_launcher.py:29: VisibleDeprecationWarning: Creating an ndarray from ragged nested sequences (which is a list-or-tuple of lists-or-tuples-or ndarrays with different lengths or shapes) is deprecated. If you meant to do this, you must specify 'dtype=object' when creating the ndarray\n"
          ]
        },
        {
          "output_type": "stream",
          "name": "stdout",
          "text": [
            "Total number of classes: 101\n",
            "x_train examples: (6941,)\n",
            "x_test examples: (1736,)\n"
          ]
        }
      ]
    },
    {
      "cell_type": "markdown",
      "source": [
        "Dataloaders"
      ],
      "metadata": {
        "id": "gRdZvPtE2Jyl"
      }
    },
    {
      "cell_type": "code",
      "metadata": {
        "id": "eZrHfYJPwM_E"
      },
      "source": [
        "trainloader = DataLoader(train_data, batch_size=batch_size, shuffle=True)\n",
        "testloader = DataLoader(test_data, batch_size=batch_size, shuffle=True)"
      ],
      "execution_count": 32,
      "outputs": []
    },
    {
      "cell_type": "code",
      "metadata": {
        "id": "6Gscq36wl0F0"
      },
      "source": [
        "import torch.nn as nn\n",
        "import torch.nn.functional as F\n",
        "\n",
        "\n",
        "class Net(nn.Module):\n",
        "    def __init__(self):\n",
        "        super().__init__()\n",
        "        self.conv1 = nn.Conv2d(3, 10, 3)\n",
        "        self.pool = nn.MaxPool2d(2, 2)\n",
        "        self.conv2 = nn.Conv2d(10, 20, 3)\n",
        "        self.conv3 = nn.Conv2d(20, 30, 3)\n",
        "        self.fc = nn.Linear(20280, 101)\n",
        "\n",
        "    def forward(self, x):\n",
        "        x = self.pool(F.relu(self.conv1(x)))\n",
        "        x = self.pool(F.relu(self.conv2(x)))\n",
        "        x = self.pool(F.relu(self.conv3(x)))\n",
        "        x = torch.flatten(x, 1) # flatten all dimensions except batch\n",
        "        return self.fc(x)\n",
        "\n",
        "\n",
        "net = Net().to(device)"
      ],
      "execution_count": 33,
      "outputs": []
    },
    {
      "cell_type": "code",
      "metadata": {
        "colab": {
          "base_uri": "https://localhost:8080/"
        },
        "id": "jhJ7eLzgymx2",
        "outputId": "f9e89056-72ed-432c-a9ad-e2977f4d6636"
      },
      "source": [
        "summary(net, (3, 224, 224))"
      ],
      "execution_count": 34,
      "outputs": [
        {
          "output_type": "stream",
          "name": "stdout",
          "text": [
            "----------------------------------------------------------------\n",
            "        Layer (type)               Output Shape         Param #\n",
            "================================================================\n",
            "            Conv2d-1         [-1, 10, 222, 222]             280\n",
            "         MaxPool2d-2         [-1, 10, 111, 111]               0\n",
            "            Conv2d-3         [-1, 20, 109, 109]           1,820\n",
            "         MaxPool2d-4           [-1, 20, 54, 54]               0\n",
            "            Conv2d-5           [-1, 30, 52, 52]           5,430\n",
            "         MaxPool2d-6           [-1, 30, 26, 26]               0\n",
            "            Linear-7                  [-1, 101]       2,048,381\n",
            "================================================================\n",
            "Total params: 2,055,911\n",
            "Trainable params: 2,055,911\n",
            "Non-trainable params: 0\n",
            "----------------------------------------------------------------\n",
            "Input size (MB): 0.57\n",
            "Forward/backward pass size (MB): 7.73\n",
            "Params size (MB): 7.84\n",
            "Estimated Total Size (MB): 16.15\n",
            "----------------------------------------------------------------\n"
          ]
        }
      ]
    },
    {
      "cell_type": "markdown",
      "source": [
        "Optimizer"
      ],
      "metadata": {
        "id": "uaQ0dzaJ1lt9"
      }
    },
    {
      "cell_type": "code",
      "metadata": {
        "id": "gseQRkaq2C7W"
      },
      "source": [
        "optimizer = optim.Adam(net.parameters(), lr=1e-3)"
      ],
      "execution_count": 35,
      "outputs": []
    },
    {
      "cell_type": "markdown",
      "source": [
        "Loss function"
      ],
      "metadata": {
        "id": "aLJuhyNK1pYc"
      }
    },
    {
      "cell_type": "code",
      "source": [
        "criterion = nn.CrossEntropyLoss()"
      ],
      "metadata": {
        "id": "6D-5OIbw1stc"
      },
      "execution_count": 36,
      "outputs": []
    },
    {
      "cell_type": "markdown",
      "source": [
        "Training function"
      ],
      "metadata": {
        "id": "wijHg_8g1wUV"
      }
    },
    {
      "cell_type": "code",
      "metadata": {
        "id": "dCrqe8TW2sRk"
      },
      "source": [
        "def fit(model, dataloader, optimizer, criterion):\n",
        "    print('Training')\n",
        "    model.train()\n",
        "    running_loss = 0.0\n",
        "    running_correct = 0\n",
        "    for i, data in tqdm(enumerate(dataloader),\n",
        "                        total=int(len(train_data)/dataloader.batch_size)):\n",
        "        data, target = data[0].to(device), data[1].to(device)\n",
        "        optimizer.zero_grad()\n",
        "        outputs = model(data)\n",
        "        loss = criterion(outputs, torch.max(target, 1)[1])\n",
        "        running_loss += loss.item()\n",
        "        _, preds = torch.max(outputs.data, 1)\n",
        "        running_correct += (preds == torch.max(target, 1)[1]).sum().item()\n",
        "        loss.backward()\n",
        "        optimizer.step()\n",
        "        \n",
        "    loss = running_loss/len(dataloader.dataset)\n",
        "    accuracy = 100. * running_correct/len(dataloader.dataset)\n",
        "    \n",
        "    print(f\"Train Loss: {loss:.4f}, Train Acc: {accuracy:.2f}\")\n",
        "    \n",
        "    return loss, accuracy"
      ],
      "execution_count": 37,
      "outputs": []
    },
    {
      "cell_type": "markdown",
      "source": [
        "Validation function"
      ],
      "metadata": {
        "id": "47Vrq5WF1z_e"
      }
    },
    {
      "cell_type": "code",
      "metadata": {
        "id": "5oivrSPN3N9H"
      },
      "source": [
        "def validate(model, dataloader, optimizer, criterion):\n",
        "    print('Validating')\n",
        "    model.eval()\n",
        "    running_loss = 0.0\n",
        "    running_correct = 0\n",
        "    with torch.no_grad():\n",
        "        for i, data in tqdm(enumerate(dataloader),\n",
        "                            total=int(len(test_data)/dataloader.batch_size)):\n",
        "            data, target = data[0].to(device), data[1].to(device)\n",
        "            outputs = model(data)\n",
        "            loss = criterion(outputs, torch.max(target, 1)[1])\n",
        "            \n",
        "            running_loss += loss.item()\n",
        "            _, preds = torch.max(outputs.data, 1)\n",
        "            running_correct += (preds == torch.max(target, 1)[1]).sum().item()\n",
        "        \n",
        "        loss = running_loss/len(dataloader.dataset)\n",
        "        accuracy = 100. * running_correct/len(dataloader.dataset)\n",
        "        print(f'Test Loss: {loss:.4f}, Test Acc: {accuracy:.2f}')\n",
        "        \n",
        "        return loss, accuracy"
      ],
      "execution_count": 38,
      "outputs": []
    },
    {
      "cell_type": "code",
      "metadata": {
        "colab": {
          "base_uri": "https://localhost:8080/"
        },
        "id": "spkq9TcW3axr",
        "outputId": "3b0e3a14-8b51-4160-f041-ddcf8de66385"
      },
      "source": [
        "train_loss , train_accuracy = [], []\n",
        "val_loss , val_accuracy = [], []\n",
        "\n",
        "print(f\"Training on {len(train_data)} examples, validating on {len(test_data)} examples...\")\n",
        "start = time.time()\n",
        "\n",
        "for epoch in range(epochs):\n",
        "    print(f\"Epoch {epoch+1} of {epochs}\")\n",
        "    train_epoch_loss, train_epoch_accuracy = fit(net, trainloader,optimizer,criterion)\n",
        "    val_epoch_loss, val_epoch_accuracy = validate(net, testloader,optimizer,criterion)\n",
        "    train_loss.append(train_epoch_loss)\n",
        "    train_accuracy.append(train_epoch_accuracy)\n",
        "    val_loss.append(val_epoch_loss)\n",
        "    val_accuracy.append(val_epoch_accuracy)\n",
        "\n",
        "end = time.time()\n",
        "print((end-start)/60, 'minutes')\n",
        "torch.save(net.state_dict(), f\"/content/outputs/cnn-epochs{epochs}.pth\")"
      ],
      "execution_count": 45,
      "outputs": [
        {
          "output_type": "stream",
          "name": "stdout",
          "text": [
            "Training on 6941 examples, validating on 1736 examples...\n",
            "Epoch 1 of 10\n",
            "Training\n"
          ]
        },
        {
          "output_type": "stream",
          "name": "stderr",
          "text": [
            "434it [00:26, 16.61it/s]\n"
          ]
        },
        {
          "output_type": "stream",
          "name": "stdout",
          "text": [
            "Train Loss: 0.0007, Train Acc: 99.90\n",
            "Validating\n"
          ]
        },
        {
          "output_type": "stream",
          "name": "stderr",
          "text": [
            "109it [00:08, 13.57it/s]                         \n"
          ]
        },
        {
          "output_type": "stream",
          "name": "stdout",
          "text": [
            "Test Loss: 0.2192, Test Acc: 57.78\n",
            "Epoch 2 of 10\n",
            "Training\n"
          ]
        },
        {
          "output_type": "stream",
          "name": "stderr",
          "text": [
            "434it [00:25, 17.18it/s]\n"
          ]
        },
        {
          "output_type": "stream",
          "name": "stdout",
          "text": [
            "Train Loss: 0.0008, Train Acc: 99.93\n",
            "Validating\n"
          ]
        },
        {
          "output_type": "stream",
          "name": "stderr",
          "text": [
            "109it [00:06, 16.09it/s]                         \n"
          ]
        },
        {
          "output_type": "stream",
          "name": "stdout",
          "text": [
            "Test Loss: 0.1875, Test Acc: 58.12\n",
            "Epoch 3 of 10\n",
            "Training\n"
          ]
        },
        {
          "output_type": "stream",
          "name": "stderr",
          "text": [
            "434it [00:24, 17.87it/s]                         \n"
          ]
        },
        {
          "output_type": "stream",
          "name": "stdout",
          "text": [
            "Train Loss: 0.0004, Train Acc: 99.94\n",
            "Validating\n"
          ]
        },
        {
          "output_type": "stream",
          "name": "stderr",
          "text": [
            "109it [00:05, 19.52it/s]                         \n"
          ]
        },
        {
          "output_type": "stream",
          "name": "stdout",
          "text": [
            "Test Loss: 0.2051, Test Acc: 58.41\n",
            "Epoch 4 of 10\n",
            "Training\n"
          ]
        },
        {
          "output_type": "stream",
          "name": "stderr",
          "text": [
            "434it [00:23, 18.13it/s]                         \n"
          ]
        },
        {
          "output_type": "stream",
          "name": "stdout",
          "text": [
            "Train Loss: 0.0009, Train Acc: 99.91\n",
            "Validating\n"
          ]
        },
        {
          "output_type": "stream",
          "name": "stderr",
          "text": [
            "109it [00:05, 19.30it/s]                         \n"
          ]
        },
        {
          "output_type": "stream",
          "name": "stdout",
          "text": [
            "Test Loss: 0.1986, Test Acc: 57.83\n",
            "Epoch 5 of 10\n",
            "Training\n"
          ]
        },
        {
          "output_type": "stream",
          "name": "stderr",
          "text": [
            "434it [00:24, 17.36it/s]                         \n"
          ]
        },
        {
          "output_type": "stream",
          "name": "stdout",
          "text": [
            "Train Loss: 0.0006, Train Acc: 99.94\n",
            "Validating\n"
          ]
        },
        {
          "output_type": "stream",
          "name": "stderr",
          "text": [
            "109it [00:05, 19.61it/s]\n"
          ]
        },
        {
          "output_type": "stream",
          "name": "stdout",
          "text": [
            "Test Loss: 0.1817, Test Acc: 57.72\n",
            "Epoch 6 of 10\n",
            "Training\n"
          ]
        },
        {
          "output_type": "stream",
          "name": "stderr",
          "text": [
            "434it [00:23, 18.23it/s]                         \n"
          ]
        },
        {
          "output_type": "stream",
          "name": "stdout",
          "text": [
            "Train Loss: 0.0008, Train Acc: 99.90\n",
            "Validating\n"
          ]
        },
        {
          "output_type": "stream",
          "name": "stderr",
          "text": [
            "109it [00:05, 19.57it/s]                         \n"
          ]
        },
        {
          "output_type": "stream",
          "name": "stdout",
          "text": [
            "Test Loss: 0.1825, Test Acc: 57.43\n",
            "Epoch 7 of 10\n",
            "Training\n"
          ]
        },
        {
          "output_type": "stream",
          "name": "stderr",
          "text": [
            "434it [00:23, 18.33it/s]\n"
          ]
        },
        {
          "output_type": "stream",
          "name": "stdout",
          "text": [
            "Train Loss: 0.0004, Train Acc: 99.94\n",
            "Validating\n"
          ]
        },
        {
          "output_type": "stream",
          "name": "stderr",
          "text": [
            "109it [00:05, 19.39it/s]                         \n"
          ]
        },
        {
          "output_type": "stream",
          "name": "stdout",
          "text": [
            "Test Loss: 0.1754, Test Acc: 58.01\n",
            "Epoch 8 of 10\n",
            "Training\n"
          ]
        },
        {
          "output_type": "stream",
          "name": "stderr",
          "text": [
            "434it [00:23, 18.22it/s]                         \n"
          ]
        },
        {
          "output_type": "stream",
          "name": "stdout",
          "text": [
            "Train Loss: 0.0016, Train Acc: 99.55\n",
            "Validating\n"
          ]
        },
        {
          "output_type": "stream",
          "name": "stderr",
          "text": [
            "109it [00:05, 19.36it/s]                         \n"
          ]
        },
        {
          "output_type": "stream",
          "name": "stdout",
          "text": [
            "Test Loss: 0.2833, Test Acc: 51.61\n",
            "Epoch 9 of 10\n",
            "Training\n"
          ]
        },
        {
          "output_type": "stream",
          "name": "stderr",
          "text": [
            "434it [00:24, 18.03it/s]\n"
          ]
        },
        {
          "output_type": "stream",
          "name": "stdout",
          "text": [
            "Train Loss: 0.0014, Train Acc: 99.65\n",
            "Validating\n"
          ]
        },
        {
          "output_type": "stream",
          "name": "stderr",
          "text": [
            "109it [00:05, 19.10it/s]                         \n"
          ]
        },
        {
          "output_type": "stream",
          "name": "stdout",
          "text": [
            "Test Loss: 0.2816, Test Acc: 53.46\n",
            "Epoch 10 of 10\n",
            "Training\n"
          ]
        },
        {
          "output_type": "stream",
          "name": "stderr",
          "text": [
            "434it [00:24, 17.88it/s]\n"
          ]
        },
        {
          "output_type": "stream",
          "name": "stdout",
          "text": [
            "Train Loss: 0.0008, Train Acc: 99.83\n",
            "Validating\n"
          ]
        },
        {
          "output_type": "stream",
          "name": "stderr",
          "text": [
            "109it [00:05, 19.07it/s]                         \n"
          ]
        },
        {
          "output_type": "stream",
          "name": "stdout",
          "text": [
            "Test Loss: 0.2839, Test Acc: 55.59\n",
            "5.0730970342954 minutes\n"
          ]
        }
      ]
    },
    {
      "cell_type": "markdown",
      "source": [
        "Accuracy plots"
      ],
      "metadata": {
        "id": "sZ9WO5rK14Cs"
      }
    },
    {
      "cell_type": "code",
      "source": [
        "plt.figure(figsize=(10, 7))\n",
        "plt.plot(train_accuracy, color='green', label='train accuracy')\n",
        "plt.plot(val_accuracy, color='blue', label='test accuracy')\n",
        "plt.xlabel('Epochs')\n",
        "plt.ylabel('Accuracy')\n",
        "plt.legend()\n",
        "plt.savefig('/content/outputs/accuracy.png')"
      ],
      "metadata": {
        "colab": {
          "base_uri": "https://localhost:8080/",
          "height": 445
        },
        "id": "GOaABV0c173c",
        "outputId": "44a356ba-05ef-4b80-a677-d4bdde66ea93"
      },
      "execution_count": 46,
      "outputs": [
        {
          "output_type": "display_data",
          "data": {
            "image/png": "[encoded data removed]",
            "text/plain": [
              "<Figure size 720x504 with 1 Axes>"
            ]
          },
          "metadata": {}
        }
      ]
    },
    {
      "cell_type": "markdown",
      "source": [
        "Loss plots"
      ],
      "metadata": {
        "id": "c3Xf1h9Q1_qW"
      }
    },
    {
      "cell_type": "code",
      "source": [
        "plt.figure(figsize=(10, 7))\n",
        "plt.plot(train_loss, color='orange', label='train loss')\n",
        "plt.plot(val_loss, color='red', label='validataion loss')\n",
        "plt.xlabel('Epochs')\n",
        "plt.ylabel('Loss')\n",
        "plt.legend()\n",
        "plt.savefig('/content/outputs/loss.png')"
      ],
      "metadata": {
        "colab": {
          "base_uri": "https://localhost:8080/",
          "height": 445
        },
        "id": "kIsy3xPm1_01",
        "outputId": "875458b3-60d7-4ec6-d5ba-c88c25e1eeeb"
      },
      "execution_count": 47,
      "outputs": [
        {
          "output_type": "display_data",
          "data": {
            "image/png": "[encoded data removed]",
            "text/plain": [
              "<Figure size 720x504 with 1 Axes>"
            ]
          },
          "metadata": {}
        }
      ]
    },
    {
      "cell_type": "code",
      "metadata": {
        "id": "Pb3qBQtt6MlT",
        "colab": {
          "base_uri": "https://localhost:8080/",
          "height": 66,
          "referenced_widgets": [
            "6b3d3a9fc59a4bbfbe9b54a4b962f54c",
            "62f24c7e3c8448a5a56bf250eb258ef3",
            "a37052d6df8849b5b01e1d4831cb9daa",
            "aa80e9749b45434c9bb0388de8069be9",
            "9578a50588a74b1cb7998893ee428ed6",
            "e986fbd4380149658fba70174e12fb37",
            "e9e23c87fb4642e4a5190fa4255c379d",
            "464d5e0ee4814103843d47acaf3ef7de",
            "83ba5158f9d5496d9c12936f8da40182",
            "22a390af18e941149f2bd935e851ed0e",
            "e3627cd8a91949a7b1a99751137cc5c9"
          ]
        },
        "outputId": "0e50b2e2-6104-4f57-d711-714a72651eca"
      },
      "source": [
        "wide_resnet = models.wide_resnet50_2(pretrained=True).to(device)"
      ],
      "execution_count": 48,
      "outputs": [
        {
          "output_type": "stream",
          "name": "stderr",
          "text": [
            "Downloading: \"https://download.pytorch.org/models/wide_resnet50_2-95faca4d.pth\" to /root/.cache/torch/hub/checkpoints/wide_resnet50_2-95faca4d.pth\n"
          ]
        },
        {
          "output_type": "display_data",
          "data": {
            "application/vnd.jupyter.widget-view+json": {
              "model_id": "6b3d3a9fc59a4bbfbe9b54a4b962f54c",
              "version_minor": 0,
              "version_major": 2
            },
            "text/plain": [
              "  0%|          | 0.00/132M [00:00<?, ?B/s]"
            ]
          },
          "metadata": {}
        }
      ]
    },
    {
      "cell_type": "code",
      "metadata": {
        "colab": {
          "base_uri": "https://localhost:8080/"
        },
        "id": "fb3dVdjY7j9R",
        "outputId": "db642b91-d6f1-4443-af4e-308683e097ea"
      },
      "source": [
        "summary(wide_resnet, (3, 224, 224))"
      ],
      "execution_count": 49,
      "outputs": [
        {
          "output_type": "stream",
          "name": "stdout",
          "text": [
            "----------------------------------------------------------------\n",
            "        Layer (type)               Output Shape         Param #\n",
            "================================================================\n",
            "            Conv2d-1         [-1, 64, 112, 112]           9,408\n",
            "       BatchNorm2d-2         [-1, 64, 112, 112]             128\n",
            "              ReLU-3         [-1, 64, 112, 112]               0\n",
            "         MaxPool2d-4           [-1, 64, 56, 56]               0\n",
            "            Conv2d-5          [-1, 128, 56, 56]           8,192\n",
            "       BatchNorm2d-6          [-1, 128, 56, 56]             256\n",
            "              ReLU-7          [-1, 128, 56, 56]               0\n",
            "            Conv2d-8          [-1, 128, 56, 56]         147,456\n",
            "       BatchNorm2d-9          [-1, 128, 56, 56]             256\n",
            "             ReLU-10          [-1, 128, 56, 56]               0\n",
            "           Conv2d-11          [-1, 256, 56, 56]          32,768\n",
            "      BatchNorm2d-12          [-1, 256, 56, 56]             512\n",
            "           Conv2d-13          [-1, 256, 56, 56]          16,384\n",
            "      BatchNorm2d-14          [-1, 256, 56, 56]             512\n",
            "             ReLU-15          [-1, 256, 56, 56]               0\n",
            "       Bottleneck-16          [-1, 256, 56, 56]               0\n",
            "           Conv2d-17          [-1, 128, 56, 56]          32,768\n",
            "      BatchNorm2d-18          [-1, 128, 56, 56]             256\n",
            "             ReLU-19          [-1, 128, 56, 56]               0\n",
            "           Conv2d-20          [-1, 128, 56, 56]         147,456\n",
            "      BatchNorm2d-21          [-1, 128, 56, 56]             256\n",
            "             ReLU-22          [-1, 128, 56, 56]               0\n",
            "           Conv2d-23          [-1, 256, 56, 56]          32,768\n",
            "      BatchNorm2d-24          [-1, 256, 56, 56]             512\n",
            "             ReLU-25          [-1, 256, 56, 56]               0\n",
            "       Bottleneck-26          [-1, 256, 56, 56]               0\n",
            "           Conv2d-27          [-1, 128, 56, 56]          32,768\n",
            "      BatchNorm2d-28          [-1, 128, 56, 56]             256\n",
            "             ReLU-29          [-1, 128, 56, 56]               0\n",
            "           Conv2d-30          [-1, 128, 56, 56]         147,456\n",
            "      BatchNorm2d-31          [-1, 128, 56, 56]             256\n",
            "             ReLU-32          [-1, 128, 56, 56]               0\n",
            "           Conv2d-33          [-1, 256, 56, 56]          32,768\n",
            "      BatchNorm2d-34          [-1, 256, 56, 56]             512\n",
            "             ReLU-35          [-1, 256, 56, 56]               0\n",
            "       Bottleneck-36          [-1, 256, 56, 56]               0\n",
            "           Conv2d-37          [-1, 256, 56, 56]          65,536\n",
            "      BatchNorm2d-38          [-1, 256, 56, 56]             512\n",
            "             ReLU-39          [-1, 256, 56, 56]               0\n",
            "           Conv2d-40          [-1, 256, 28, 28]         589,824\n",
            "      BatchNorm2d-41          [-1, 256, 28, 28]             512\n",
            "             ReLU-42          [-1, 256, 28, 28]               0\n",
            "           Conv2d-43          [-1, 512, 28, 28]         131,072\n",
            "      BatchNorm2d-44          [-1, 512, 28, 28]           1,024\n",
            "           Conv2d-45          [-1, 512, 28, 28]         131,072\n",
            "      BatchNorm2d-46          [-1, 512, 28, 28]           1,024\n",
            "             ReLU-47          [-1, 512, 28, 28]               0\n",
            "       Bottleneck-48          [-1, 512, 28, 28]               0\n",
            "           Conv2d-49          [-1, 256, 28, 28]         131,072\n",
            "      BatchNorm2d-50          [-1, 256, 28, 28]             512\n",
            "             ReLU-51          [-1, 256, 28, 28]               0\n",
            "           Conv2d-52          [-1, 256, 28, 28]         589,824\n",
            "      BatchNorm2d-53          [-1, 256, 28, 28]             512\n",
            "             ReLU-54          [-1, 256, 28, 28]               0\n",
            "           Conv2d-55          [-1, 512, 28, 28]         131,072\n",
            "      BatchNorm2d-56          [-1, 512, 28, 28]           1,024\n",
            "             ReLU-57          [-1, 512, 28, 28]               0\n",
            "       Bottleneck-58          [-1, 512, 28, 28]               0\n",
            "           Conv2d-59          [-1, 256, 28, 28]         131,072\n",
            "      BatchNorm2d-60          [-1, 256, 28, 28]             512\n",
            "             ReLU-61          [-1, 256, 28, 28]               0\n",
            "           Conv2d-62          [-1, 256, 28, 28]         589,824\n",
            "      BatchNorm2d-63          [-1, 256, 28, 28]             512\n",
            "             ReLU-64          [-1, 256, 28, 28]               0\n",
            "           Conv2d-65          [-1, 512, 28, 28]         131,072\n",
            "      BatchNorm2d-66          [-1, 512, 28, 28]           1,024\n",
            "             ReLU-67          [-1, 512, 28, 28]               0\n",
            "       Bottleneck-68          [-1, 512, 28, 28]               0\n",
            "           Conv2d-69          [-1, 256, 28, 28]         131,072\n",
            "      BatchNorm2d-70          [-1, 256, 28, 28]             512\n",
            "             ReLU-71          [-1, 256, 28, 28]               0\n",
            "           Conv2d-72          [-1, 256, 28, 28]         589,824\n",
            "      BatchNorm2d-73          [-1, 256, 28, 28]             512\n",
            "             ReLU-74          [-1, 256, 28, 28]               0\n",
            "           Conv2d-75          [-1, 512, 28, 28]         131,072\n",
            "      BatchNorm2d-76          [-1, 512, 28, 28]           1,024\n",
            "             ReLU-77          [-1, 512, 28, 28]               0\n",
            "       Bottleneck-78          [-1, 512, 28, 28]               0\n",
            "           Conv2d-79          [-1, 512, 28, 28]         262,144\n",
            "      BatchNorm2d-80          [-1, 512, 28, 28]           1,024\n",
            "             ReLU-81          [-1, 512, 28, 28]               0\n",
            "           Conv2d-82          [-1, 512, 14, 14]       2,359,296\n",
            "      BatchNorm2d-83          [-1, 512, 14, 14]           1,024\n",
            "             ReLU-84          [-1, 512, 14, 14]               0\n",
            "           Conv2d-85         [-1, 1024, 14, 14]         524,288\n",
            "      BatchNorm2d-86         [-1, 1024, 14, 14]           2,048\n",
            "           Conv2d-87         [-1, 1024, 14, 14]         524,288\n",
            "      BatchNorm2d-88         [-1, 1024, 14, 14]           2,048\n",
            "             ReLU-89         [-1, 1024, 14, 14]               0\n",
            "       Bottleneck-90         [-1, 1024, 14, 14]               0\n",
            "           Conv2d-91          [-1, 512, 14, 14]         524,288\n",
            "      BatchNorm2d-92          [-1, 512, 14, 14]           1,024\n",
            "             ReLU-93          [-1, 512, 14, 14]               0\n",
            "           Conv2d-94          [-1, 512, 14, 14]       2,359,296\n",
            "      BatchNorm2d-95          [-1, 512, 14, 14]           1,024\n",
            "             ReLU-96          [-1, 512, 14, 14]               0\n",
            "           Conv2d-97         [-1, 1024, 14, 14]         524,288\n",
            "      BatchNorm2d-98         [-1, 1024, 14, 14]           2,048\n",
            "             ReLU-99         [-1, 1024, 14, 14]               0\n",
            "      Bottleneck-100         [-1, 1024, 14, 14]               0\n",
            "          Conv2d-101          [-1, 512, 14, 14]         524,288\n",
            "     BatchNorm2d-102          [-1, 512, 14, 14]           1,024\n",
            "            ReLU-103          [-1, 512, 14, 14]               0\n",
            "          Conv2d-104          [-1, 512, 14, 14]       2,359,296\n",
            "     BatchNorm2d-105          [-1, 512, 14, 14]           1,024\n",
            "            ReLU-106          [-1, 512, 14, 14]               0\n",
            "          Conv2d-107         [-1, 1024, 14, 14]         524,288\n",
            "     BatchNorm2d-108         [-1, 1024, 14, 14]           2,048\n",
            "            ReLU-109         [-1, 1024, 14, 14]               0\n",
            "      Bottleneck-110         [-1, 1024, 14, 14]               0\n",
            "          Conv2d-111          [-1, 512, 14, 14]         524,288\n",
            "     BatchNorm2d-112          [-1, 512, 14, 14]           1,024\n",
            "            ReLU-113          [-1, 512, 14, 14]               0\n",
            "          Conv2d-114          [-1, 512, 14, 14]       2,359,296\n",
            "     BatchNorm2d-115          [-1, 512, 14, 14]           1,024\n",
            "            ReLU-116          [-1, 512, 14, 14]               0\n",
            "          Conv2d-117         [-1, 1024, 14, 14]         524,288\n",
            "     BatchNorm2d-118         [-1, 1024, 14, 14]           2,048\n",
            "            ReLU-119         [-1, 1024, 14, 14]               0\n",
            "      Bottleneck-120         [-1, 1024, 14, 14]               0\n",
            "          Conv2d-121          [-1, 512, 14, 14]         524,288\n",
            "     BatchNorm2d-122          [-1, 512, 14, 14]           1,024\n",
            "            ReLU-123          [-1, 512, 14, 14]               0\n",
            "          Conv2d-124          [-1, 512, 14, 14]       2,359,296\n",
            "     BatchNorm2d-125          [-1, 512, 14, 14]           1,024\n",
            "            ReLU-126          [-1, 512, 14, 14]               0\n",
            "          Conv2d-127         [-1, 1024, 14, 14]         524,288\n",
            "     BatchNorm2d-128         [-1, 1024, 14, 14]           2,048\n",
            "            ReLU-129         [-1, 1024, 14, 14]               0\n",
            "      Bottleneck-130         [-1, 1024, 14, 14]               0\n",
            "          Conv2d-131          [-1, 512, 14, 14]         524,288\n",
            "     BatchNorm2d-132          [-1, 512, 14, 14]           1,024\n",
            "            ReLU-133          [-1, 512, 14, 14]               0\n",
            "          Conv2d-134          [-1, 512, 14, 14]       2,359,296\n",
            "     BatchNorm2d-135          [-1, 512, 14, 14]           1,024\n",
            "            ReLU-136          [-1, 512, 14, 14]               0\n",
            "          Conv2d-137         [-1, 1024, 14, 14]         524,288\n",
            "     BatchNorm2d-138         [-1, 1024, 14, 14]           2,048\n",
            "            ReLU-139         [-1, 1024, 14, 14]               0\n",
            "      Bottleneck-140         [-1, 1024, 14, 14]               0\n",
            "          Conv2d-141         [-1, 1024, 14, 14]       1,048,576\n",
            "     BatchNorm2d-142         [-1, 1024, 14, 14]           2,048\n",
            "            ReLU-143         [-1, 1024, 14, 14]               0\n",
            "          Conv2d-144           [-1, 1024, 7, 7]       9,437,184\n",
            "     BatchNorm2d-145           [-1, 1024, 7, 7]           2,048\n",
            "            ReLU-146           [-1, 1024, 7, 7]               0\n",
            "          Conv2d-147           [-1, 2048, 7, 7]       2,097,152\n",
            "     BatchNorm2d-148           [-1, 2048, 7, 7]           4,096\n",
            "          Conv2d-149           [-1, 2048, 7, 7]       2,097,152\n",
            "     BatchNorm2d-150           [-1, 2048, 7, 7]           4,096\n",
            "            ReLU-151           [-1, 2048, 7, 7]               0\n",
            "      Bottleneck-152           [-1, 2048, 7, 7]               0\n",
            "          Conv2d-153           [-1, 1024, 7, 7]       2,097,152\n",
            "     BatchNorm2d-154           [-1, 1024, 7, 7]           2,048\n",
            "            ReLU-155           [-1, 1024, 7, 7]               0\n",
            "          Conv2d-156           [-1, 1024, 7, 7]       9,437,184\n",
            "     BatchNorm2d-157           [-1, 1024, 7, 7]           2,048\n",
            "            ReLU-158           [-1, 1024, 7, 7]               0\n",
            "          Conv2d-159           [-1, 2048, 7, 7]       2,097,152\n",
            "     BatchNorm2d-160           [-1, 2048, 7, 7]           4,096\n",
            "            ReLU-161           [-1, 2048, 7, 7]               0\n",
            "      Bottleneck-162           [-1, 2048, 7, 7]               0\n",
            "          Conv2d-163           [-1, 1024, 7, 7]       2,097,152\n",
            "     BatchNorm2d-164           [-1, 1024, 7, 7]           2,048\n",
            "            ReLU-165           [-1, 1024, 7, 7]               0\n",
            "          Conv2d-166           [-1, 1024, 7, 7]       9,437,184\n",
            "     BatchNorm2d-167           [-1, 1024, 7, 7]           2,048\n",
            "            ReLU-168           [-1, 1024, 7, 7]               0\n",
            "          Conv2d-169           [-1, 2048, 7, 7]       2,097,152\n",
            "     BatchNorm2d-170           [-1, 2048, 7, 7]           4,096\n",
            "            ReLU-171           [-1, 2048, 7, 7]               0\n",
            "      Bottleneck-172           [-1, 2048, 7, 7]               0\n",
            "AdaptiveAvgPool2d-173           [-1, 2048, 1, 1]               0\n",
            "          Linear-174                 [-1, 1000]       2,049,000\n",
            "================================================================\n",
            "Total params: 68,883,240\n",
            "Trainable params: 68,883,240\n",
            "Non-trainable params: 0\n",
            "----------------------------------------------------------------\n",
            "Input size (MB): 0.57\n",
            "Forward/backward pass size (MB): 361.78\n",
            "Params size (MB): 262.77\n",
            "Estimated Total Size (MB): 625.12\n",
            "----------------------------------------------------------------\n"
          ]
        }
      ]
    },
    {
      "cell_type": "markdown",
      "source": [
        "Freeze filter weights"
      ],
      "metadata": {
        "id": "OQOZ1fJ72qdj"
      }
    },
    {
      "cell_type": "code",
      "metadata": {
        "id": "oHIX9oQH9Nfs"
      },
      "source": [
        "for param in wide_resnet.parameters():\n",
        "    param.requires_grad=False\n",
        "\n",
        "num_ftrs = wide_resnet.fc.in_features\n",
        "wide_resnet.fc = nn.Linear(num_ftrs, 101)\n",
        "wide_resnet = wide_resnet.to(device)"
      ],
      "execution_count": 50,
      "outputs": []
    },
    {
      "cell_type": "code",
      "metadata": {
        "colab": {
          "base_uri": "https://localhost:8080/"
        },
        "id": "M7R_uGQ099iV",
        "outputId": "3b400704-d38f-404e-8b85-1e70bb5054f9"
      },
      "source": [
        "summary(wide_resnet, (3, 224, 224))"
      ],
      "execution_count": 51,
      "outputs": [
        {
          "output_type": "stream",
          "name": "stdout",
          "text": [
            "----------------------------------------------------------------\n",
            "        Layer (type)               Output Shape         Param #\n",
            "================================================================\n",
            "            Conv2d-1         [-1, 64, 112, 112]           9,408\n",
            "       BatchNorm2d-2         [-1, 64, 112, 112]             128\n",
            "              ReLU-3         [-1, 64, 112, 112]               0\n",
            "         MaxPool2d-4           [-1, 64, 56, 56]               0\n",
            "            Conv2d-5          [-1, 128, 56, 56]           8,192\n",
            "       BatchNorm2d-6          [-1, 128, 56, 56]             256\n",
            "              ReLU-7          [-1, 128, 56, 56]               0\n",
            "            Conv2d-8          [-1, 128, 56, 56]         147,456\n",
            "       BatchNorm2d-9          [-1, 128, 56, 56]             256\n",
            "             ReLU-10          [-1, 128, 56, 56]               0\n",
            "           Conv2d-11          [-1, 256, 56, 56]          32,768\n",
            "      BatchNorm2d-12          [-1, 256, 56, 56]             512\n",
            "           Conv2d-13          [-1, 256, 56, 56]          16,384\n",
            "      BatchNorm2d-14          [-1, 256, 56, 56]             512\n",
            "             ReLU-15          [-1, 256, 56, 56]               0\n",
            "       Bottleneck-16          [-1, 256, 56, 56]               0\n",
            "           Conv2d-17          [-1, 128, 56, 56]          32,768\n",
            "      BatchNorm2d-18          [-1, 128, 56, 56]             256\n",
            "             ReLU-19          [-1, 128, 56, 56]               0\n",
            "           Conv2d-20          [-1, 128, 56, 56]         147,456\n",
            "      BatchNorm2d-21          [-1, 128, 56, 56]             256\n",
            "             ReLU-22          [-1, 128, 56, 56]               0\n",
            "           Conv2d-23          [-1, 256, 56, 56]          32,768\n",
            "      BatchNorm2d-24          [-1, 256, 56, 56]             512\n",
            "             ReLU-25          [-1, 256, 56, 56]               0\n",
            "       Bottleneck-26          [-1, 256, 56, 56]               0\n",
            "           Conv2d-27          [-1, 128, 56, 56]          32,768\n",
            "      BatchNorm2d-28          [-1, 128, 56, 56]             256\n",
            "             ReLU-29          [-1, 128, 56, 56]               0\n",
            "           Conv2d-30          [-1, 128, 56, 56]         147,456\n",
            "      BatchNorm2d-31          [-1, 128, 56, 56]             256\n",
            "             ReLU-32          [-1, 128, 56, 56]               0\n",
            "           Conv2d-33          [-1, 256, 56, 56]          32,768\n",
            "      BatchNorm2d-34          [-1, 256, 56, 56]             512\n",
            "             ReLU-35          [-1, 256, 56, 56]               0\n",
            "       Bottleneck-36          [-1, 256, 56, 56]               0\n",
            "           Conv2d-37          [-1, 256, 56, 56]          65,536\n",
            "      BatchNorm2d-38          [-1, 256, 56, 56]             512\n",
            "             ReLU-39          [-1, 256, 56, 56]               0\n",
            "           Conv2d-40          [-1, 256, 28, 28]         589,824\n",
            "      BatchNorm2d-41          [-1, 256, 28, 28]             512\n",
            "             ReLU-42          [-1, 256, 28, 28]               0\n",
            "           Conv2d-43          [-1, 512, 28, 28]         131,072\n",
            "      BatchNorm2d-44          [-1, 512, 28, 28]           1,024\n",
            "           Conv2d-45          [-1, 512, 28, 28]         131,072\n",
            "      BatchNorm2d-46          [-1, 512, 28, 28]           1,024\n",
            "             ReLU-47          [-1, 512, 28, 28]               0\n",
            "       Bottleneck-48          [-1, 512, 28, 28]               0\n",
            "           Conv2d-49          [-1, 256, 28, 28]         131,072\n",
            "      BatchNorm2d-50          [-1, 256, 28, 28]             512\n",
            "             ReLU-51          [-1, 256, 28, 28]               0\n",
            "           Conv2d-52          [-1, 256, 28, 28]         589,824\n",
            "      BatchNorm2d-53          [-1, 256, 28, 28]             512\n",
            "             ReLU-54          [-1, 256, 28, 28]               0\n",
            "           Conv2d-55          [-1, 512, 28, 28]         131,072\n",
            "      BatchNorm2d-56          [-1, 512, 28, 28]           1,024\n",
            "             ReLU-57          [-1, 512, 28, 28]               0\n",
            "       Bottleneck-58          [-1, 512, 28, 28]               0\n",
            "           Conv2d-59          [-1, 256, 28, 28]         131,072\n",
            "      BatchNorm2d-60          [-1, 256, 28, 28]             512\n",
            "             ReLU-61          [-1, 256, 28, 28]               0\n",
            "           Conv2d-62          [-1, 256, 28, 28]         589,824\n",
            "      BatchNorm2d-63          [-1, 256, 28, 28]             512\n",
            "             ReLU-64          [-1, 256, 28, 28]               0\n",
            "           Conv2d-65          [-1, 512, 28, 28]         131,072\n",
            "      BatchNorm2d-66          [-1, 512, 28, 28]           1,024\n",
            "             ReLU-67          [-1, 512, 28, 28]               0\n",
            "       Bottleneck-68          [-1, 512, 28, 28]               0\n",
            "           Conv2d-69          [-1, 256, 28, 28]         131,072\n",
            "      BatchNorm2d-70          [-1, 256, 28, 28]             512\n",
            "             ReLU-71          [-1, 256, 28, 28]               0\n",
            "           Conv2d-72          [-1, 256, 28, 28]         589,824\n",
            "      BatchNorm2d-73          [-1, 256, 28, 28]             512\n",
            "             ReLU-74          [-1, 256, 28, 28]               0\n",
            "           Conv2d-75          [-1, 512, 28, 28]         131,072\n",
            "      BatchNorm2d-76          [-1, 512, 28, 28]           1,024\n",
            "             ReLU-77          [-1, 512, 28, 28]               0\n",
            "       Bottleneck-78          [-1, 512, 28, 28]               0\n",
            "           Conv2d-79          [-1, 512, 28, 28]         262,144\n",
            "      BatchNorm2d-80          [-1, 512, 28, 28]           1,024\n",
            "             ReLU-81          [-1, 512, 28, 28]               0\n",
            "           Conv2d-82          [-1, 512, 14, 14]       2,359,296\n",
            "      BatchNorm2d-83          [-1, 512, 14, 14]           1,024\n",
            "             ReLU-84          [-1, 512, 14, 14]               0\n",
            "           Conv2d-85         [-1, 1024, 14, 14]         524,288\n",
            "      BatchNorm2d-86         [-1, 1024, 14, 14]           2,048\n",
            "           Conv2d-87         [-1, 1024, 14, 14]         524,288\n",
            "      BatchNorm2d-88         [-1, 1024, 14, 14]           2,048\n",
            "             ReLU-89         [-1, 1024, 14, 14]               0\n",
            "       Bottleneck-90         [-1, 1024, 14, 14]               0\n",
            "           Conv2d-91          [-1, 512, 14, 14]         524,288\n",
            "      BatchNorm2d-92          [-1, 512, 14, 14]           1,024\n",
            "             ReLU-93          [-1, 512, 14, 14]               0\n",
            "           Conv2d-94          [-1, 512, 14, 14]       2,359,296\n",
            "      BatchNorm2d-95          [-1, 512, 14, 14]           1,024\n",
            "             ReLU-96          [-1, 512, 14, 14]               0\n",
            "           Conv2d-97         [-1, 1024, 14, 14]         524,288\n",
            "      BatchNorm2d-98         [-1, 1024, 14, 14]           2,048\n",
            "             ReLU-99         [-1, 1024, 14, 14]               0\n",
            "      Bottleneck-100         [-1, 1024, 14, 14]               0\n",
            "          Conv2d-101          [-1, 512, 14, 14]         524,288\n",
            "     BatchNorm2d-102          [-1, 512, 14, 14]           1,024\n",
            "            ReLU-103          [-1, 512, 14, 14]               0\n",
            "          Conv2d-104          [-1, 512, 14, 14]       2,359,296\n",
            "     BatchNorm2d-105          [-1, 512, 14, 14]           1,024\n",
            "            ReLU-106          [-1, 512, 14, 14]               0\n",
            "          Conv2d-107         [-1, 1024, 14, 14]         524,288\n",
            "     BatchNorm2d-108         [-1, 1024, 14, 14]           2,048\n",
            "            ReLU-109         [-1, 1024, 14, 14]               0\n",
            "      Bottleneck-110         [-1, 1024, 14, 14]               0\n",
            "          Conv2d-111          [-1, 512, 14, 14]         524,288\n",
            "     BatchNorm2d-112          [-1, 512, 14, 14]           1,024\n",
            "            ReLU-113          [-1, 512, 14, 14]               0\n",
            "          Conv2d-114          [-1, 512, 14, 14]       2,359,296\n",
            "     BatchNorm2d-115          [-1, 512, 14, 14]           1,024\n",
            "            ReLU-116          [-1, 512, 14, 14]               0\n",
            "          Conv2d-117         [-1, 1024, 14, 14]         524,288\n",
            "     BatchNorm2d-118         [-1, 1024, 14, 14]           2,048\n",
            "            ReLU-119         [-1, 1024, 14, 14]               0\n",
            "      Bottleneck-120         [-1, 1024, 14, 14]               0\n",
            "          Conv2d-121          [-1, 512, 14, 14]         524,288\n",
            "     BatchNorm2d-122          [-1, 512, 14, 14]           1,024\n",
            "            ReLU-123          [-1, 512, 14, 14]               0\n",
            "          Conv2d-124          [-1, 512, 14, 14]       2,359,296\n",
            "     BatchNorm2d-125          [-1, 512, 14, 14]           1,024\n",
            "            ReLU-126          [-1, 512, 14, 14]               0\n",
            "          Conv2d-127         [-1, 1024, 14, 14]         524,288\n",
            "     BatchNorm2d-128         [-1, 1024, 14, 14]           2,048\n",
            "            ReLU-129         [-1, 1024, 14, 14]               0\n",
            "      Bottleneck-130         [-1, 1024, 14, 14]               0\n",
            "          Conv2d-131          [-1, 512, 14, 14]         524,288\n",
            "     BatchNorm2d-132          [-1, 512, 14, 14]           1,024\n",
            "            ReLU-133          [-1, 512, 14, 14]               0\n",
            "          Conv2d-134          [-1, 512, 14, 14]       2,359,296\n",
            "     BatchNorm2d-135          [-1, 512, 14, 14]           1,024\n",
            "            ReLU-136          [-1, 512, 14, 14]               0\n",
            "          Conv2d-137         [-1, 1024, 14, 14]         524,288\n",
            "     BatchNorm2d-138         [-1, 1024, 14, 14]           2,048\n",
            "            ReLU-139         [-1, 1024, 14, 14]               0\n",
            "      Bottleneck-140         [-1, 1024, 14, 14]               0\n",
            "          Conv2d-141         [-1, 1024, 14, 14]       1,048,576\n",
            "     BatchNorm2d-142         [-1, 1024, 14, 14]           2,048\n",
            "            ReLU-143         [-1, 1024, 14, 14]               0\n",
            "          Conv2d-144           [-1, 1024, 7, 7]       9,437,184\n",
            "     BatchNorm2d-145           [-1, 1024, 7, 7]           2,048\n",
            "            ReLU-146           [-1, 1024, 7, 7]               0\n",
            "          Conv2d-147           [-1, 2048, 7, 7]       2,097,152\n",
            "     BatchNorm2d-148           [-1, 2048, 7, 7]           4,096\n",
            "          Conv2d-149           [-1, 2048, 7, 7]       2,097,152\n",
            "     BatchNorm2d-150           [-1, 2048, 7, 7]           4,096\n",
            "            ReLU-151           [-1, 2048, 7, 7]               0\n",
            "      Bottleneck-152           [-1, 2048, 7, 7]               0\n",
            "          Conv2d-153           [-1, 1024, 7, 7]       2,097,152\n",
            "     BatchNorm2d-154           [-1, 1024, 7, 7]           2,048\n",
            "            ReLU-155           [-1, 1024, 7, 7]               0\n",
            "          Conv2d-156           [-1, 1024, 7, 7]       9,437,184\n",
            "     BatchNorm2d-157           [-1, 1024, 7, 7]           2,048\n",
            "            ReLU-158           [-1, 1024, 7, 7]               0\n",
            "          Conv2d-159           [-1, 2048, 7, 7]       2,097,152\n",
            "     BatchNorm2d-160           [-1, 2048, 7, 7]           4,096\n",
            "            ReLU-161           [-1, 2048, 7, 7]               0\n",
            "      Bottleneck-162           [-1, 2048, 7, 7]               0\n",
            "          Conv2d-163           [-1, 1024, 7, 7]       2,097,152\n",
            "     BatchNorm2d-164           [-1, 1024, 7, 7]           2,048\n",
            "            ReLU-165           [-1, 1024, 7, 7]               0\n",
            "          Conv2d-166           [-1, 1024, 7, 7]       9,437,184\n",
            "     BatchNorm2d-167           [-1, 1024, 7, 7]           2,048\n",
            "            ReLU-168           [-1, 1024, 7, 7]               0\n",
            "          Conv2d-169           [-1, 2048, 7, 7]       2,097,152\n",
            "     BatchNorm2d-170           [-1, 2048, 7, 7]           4,096\n",
            "            ReLU-171           [-1, 2048, 7, 7]               0\n",
            "      Bottleneck-172           [-1, 2048, 7, 7]               0\n",
            "AdaptiveAvgPool2d-173           [-1, 2048, 1, 1]               0\n",
            "          Linear-174                  [-1, 101]         206,949\n",
            "================================================================\n",
            "Total params: 67,041,189\n",
            "Trainable params: 206,949\n",
            "Non-trainable params: 66,834,240\n",
            "----------------------------------------------------------------\n",
            "Input size (MB): 0.57\n",
            "Forward/backward pass size (MB): 361.77\n",
            "Params size (MB): 255.74\n",
            "Estimated Total Size (MB): 618.09\n",
            "----------------------------------------------------------------\n"
          ]
        }
      ]
    },
    {
      "cell_type": "code",
      "metadata": {
        "colab": {
          "base_uri": "https://localhost:8080/"
        },
        "id": "RenBT3R1-DsU",
        "outputId": "3307bbc7-6c0a-478f-bda6-88ec22fb8071"
      },
      "source": [
        "for name, param in wide_resnet.named_parameters():\n",
        "    print(name, param.size(), param.requires_grad)"
      ],
      "execution_count": 52,
      "outputs": [
        {
          "output_type": "stream",
          "name": "stdout",
          "text": [
            "conv1.weight torch.Size([64, 3, 7, 7]) False\n",
            "bn1.weight torch.Size([64]) False\n",
            "bn1.bias torch.Size([64]) False\n",
            "layer1.0.conv1.weight torch.Size([128, 64, 1, 1]) False\n",
            "layer1.0.bn1.weight torch.Size([128]) False\n",
            "layer1.0.bn1.bias torch.Size([128]) False\n",
            "layer1.0.conv2.weight torch.Size([128, 128, 3, 3]) False\n",
            "layer1.0.bn2.weight torch.Size([128]) False\n",
            "layer1.0.bn2.bias torch.Size([128]) False\n",
            "layer1.0.conv3.weight torch.Size([256, 128, 1, 1]) False\n",
            "layer1.0.bn3.weight torch.Size([256]) False\n",
            "layer1.0.bn3.bias torch.Size([256]) False\n",
            "layer1.0.downsample.0.weight torch.Size([256, 64, 1, 1]) False\n",
            "layer1.0.downsample.1.weight torch.Size([256]) False\n",
            "layer1.0.downsample.1.bias torch.Size([256]) False\n",
            "layer1.1.conv1.weight torch.Size([128, 256, 1, 1]) False\n",
            "layer1.1.bn1.weight torch.Size([128]) False\n",
            "layer1.1.bn1.bias torch.Size([128]) False\n",
            "layer1.1.conv2.weight torch.Size([128, 128, 3, 3]) False\n",
            "layer1.1.bn2.weight torch.Size([128]) False\n",
            "layer1.1.bn2.bias torch.Size([128]) False\n",
            "layer1.1.conv3.weight torch.Size([256, 128, 1, 1]) False\n",
            "layer1.1.bn3.weight torch.Size([256]) False\n",
            "layer1.1.bn3.bias torch.Size([256]) False\n",
            "layer1.2.conv1.weight torch.Size([128, 256, 1, 1]) False\n",
            "layer1.2.bn1.weight torch.Size([128]) False\n",
            "layer1.2.bn1.bias torch.Size([128]) False\n",
            "layer1.2.conv2.weight torch.Size([128, 128, 3, 3]) False\n",
            "layer1.2.bn2.weight torch.Size([128]) False\n",
            "layer1.2.bn2.bias torch.Size([128]) False\n",
            "layer1.2.conv3.weight torch.Size([256, 128, 1, 1]) False\n",
            "layer1.2.bn3.weight torch.Size([256]) False\n",
            "layer1.2.bn3.bias torch.Size([256]) False\n",
            "layer2.0.conv1.weight torch.Size([256, 256, 1, 1]) False\n",
            "layer2.0.bn1.weight torch.Size([256]) False\n",
            "layer2.0.bn1.bias torch.Size([256]) False\n",
            "layer2.0.conv2.weight torch.Size([256, 256, 3, 3]) False\n",
            "layer2.0.bn2.weight torch.Size([256]) False\n",
            "layer2.0.bn2.bias torch.Size([256]) False\n",
            "layer2.0.conv3.weight torch.Size([512, 256, 1, 1]) False\n",
            "layer2.0.bn3.weight torch.Size([512]) False\n",
            "layer2.0.bn3.bias torch.Size([512]) False\n",
            "layer2.0.downsample.0.weight torch.Size([512, 256, 1, 1]) False\n",
            "layer2.0.downsample.1.weight torch.Size([512]) False\n",
            "layer2.0.downsample.1.bias torch.Size([512]) False\n",
            "layer2.1.conv1.weight torch.Size([256, 512, 1, 1]) False\n",
            "layer2.1.bn1.weight torch.Size([256]) False\n",
            "layer2.1.bn1.bias torch.Size([256]) False\n",
            "layer2.1.conv2.weight torch.Size([256, 256, 3, 3]) False\n",
            "layer2.1.bn2.weight torch.Size([256]) False\n",
            "layer2.1.bn2.bias torch.Size([256]) False\n",
            "layer2.1.conv3.weight torch.Size([512, 256, 1, 1]) False\n",
            "layer2.1.bn3.weight torch.Size([512]) False\n",
            "layer2.1.bn3.bias torch.Size([512]) False\n",
            "layer2.2.conv1.weight torch.Size([256, 512, 1, 1]) False\n",
            "layer2.2.bn1.weight torch.Size([256]) False\n",
            "layer2.2.bn1.bias torch.Size([256]) False\n",
            "layer2.2.conv2.weight torch.Size([256, 256, 3, 3]) False\n",
            "layer2.2.bn2.weight torch.Size([256]) False\n",
            "layer2.2.bn2.bias torch.Size([256]) False\n",
            "layer2.2.conv3.weight torch.Size([512, 256, 1, 1]) False\n",
            "layer2.2.bn3.weight torch.Size([512]) False\n",
            "layer2.2.bn3.bias torch.Size([512]) False\n",
            "layer2.3.conv1.weight torch.Size([256, 512, 1, 1]) False\n",
            "layer2.3.bn1.weight torch.Size([256]) False\n",
            "layer2.3.bn1.bias torch.Size([256]) False\n",
            "layer2.3.conv2.weight torch.Size([256, 256, 3, 3]) False\n",
            "layer2.3.bn2.weight torch.Size([256]) False\n",
            "layer2.3.bn2.bias torch.Size([256]) False\n",
            "layer2.3.conv3.weight torch.Size([512, 256, 1, 1]) False\n",
            "layer2.3.bn3.weight torch.Size([512]) False\n",
            "layer2.3.bn3.bias torch.Size([512]) False\n",
            "layer3.0.conv1.weight torch.Size([512, 512, 1, 1]) False\n",
            "layer3.0.bn1.weight torch.Size([512]) False\n",
            "layer3.0.bn1.bias torch.Size([512]) False\n",
            "layer3.0.conv2.weight torch.Size([512, 512, 3, 3]) False\n",
            "layer3.0.bn2.weight torch.Size([512]) False\n",
            "layer3.0.bn2.bias torch.Size([512]) False\n",
            "layer3.0.conv3.weight torch.Size([1024, 512, 1, 1]) False\n",
            "layer3.0.bn3.weight torch.Size([1024]) False\n",
            "layer3.0.bn3.bias torch.Size([1024]) False\n",
            "layer3.0.downsample.0.weight torch.Size([1024, 512, 1, 1]) False\n",
            "layer3.0.downsample.1.weight torch.Size([1024]) False\n",
            "layer3.0.downsample.1.bias torch.Size([1024]) False\n",
            "layer3.1.conv1.weight torch.Size([512, 1024, 1, 1]) False\n",
            "layer3.1.bn1.weight torch.Size([512]) False\n",
            "layer3.1.bn1.bias torch.Size([512]) False\n",
            "layer3.1.conv2.weight torch.Size([512, 512, 3, 3]) False\n",
            "layer3.1.bn2.weight torch.Size([512]) False\n",
            "layer3.1.bn2.bias torch.Size([512]) False\n",
            "layer3.1.conv3.weight torch.Size([1024, 512, 1, 1]) False\n",
            "layer3.1.bn3.weight torch.Size([1024]) False\n",
            "layer3.1.bn3.bias torch.Size([1024]) False\n",
            "layer3.2.conv1.weight torch.Size([512, 1024, 1, 1]) False\n",
            "layer3.2.bn1.weight torch.Size([512]) False\n",
            "layer3.2.bn1.bias torch.Size([512]) False\n",
            "layer3.2.conv2.weight torch.Size([512, 512, 3, 3]) False\n",
            "layer3.2.bn2.weight torch.Size([512]) False\n",
            "layer3.2.bn2.bias torch.Size([512]) False\n",
            "layer3.2.conv3.weight torch.Size([1024, 512, 1, 1]) False\n",
            "layer3.2.bn3.weight torch.Size([1024]) False\n",
            "layer3.2.bn3.bias torch.Size([1024]) False\n",
            "layer3.3.conv1.weight torch.Size([512, 1024, 1, 1]) False\n",
            "layer3.3.bn1.weight torch.Size([512]) False\n",
            "layer3.3.bn1.bias torch.Size([512]) False\n",
            "layer3.3.conv2.weight torch.Size([512, 512, 3, 3]) False\n",
            "layer3.3.bn2.weight torch.Size([512]) False\n",
            "layer3.3.bn2.bias torch.Size([512]) False\n",
            "layer3.3.conv3.weight torch.Size([1024, 512, 1, 1]) False\n",
            "layer3.3.bn3.weight torch.Size([1024]) False\n",
            "layer3.3.bn3.bias torch.Size([1024]) False\n",
            "layer3.4.conv1.weight torch.Size([512, 1024, 1, 1]) False\n",
            "layer3.4.bn1.weight torch.Size([512]) False\n",
            "layer3.4.bn1.bias torch.Size([512]) False\n",
            "layer3.4.conv2.weight torch.Size([512, 512, 3, 3]) False\n",
            "layer3.4.bn2.weight torch.Size([512]) False\n",
            "layer3.4.bn2.bias torch.Size([512]) False\n",
            "layer3.4.conv3.weight torch.Size([1024, 512, 1, 1]) False\n",
            "layer3.4.bn3.weight torch.Size([1024]) False\n",
            "layer3.4.bn3.bias torch.Size([1024]) False\n",
            "layer3.5.conv1.weight torch.Size([512, 1024, 1, 1]) False\n",
            "layer3.5.bn1.weight torch.Size([512]) False\n",
            "layer3.5.bn1.bias torch.Size([512]) False\n",
            "layer3.5.conv2.weight torch.Size([512, 512, 3, 3]) False\n",
            "layer3.5.bn2.weight torch.Size([512]) False\n",
            "layer3.5.bn2.bias torch.Size([512]) False\n",
            "layer3.5.conv3.weight torch.Size([1024, 512, 1, 1]) False\n",
            "layer3.5.bn3.weight torch.Size([1024]) False\n",
            "layer3.5.bn3.bias torch.Size([1024]) False\n",
            "layer4.0.conv1.weight torch.Size([1024, 1024, 1, 1]) False\n",
            "layer4.0.bn1.weight torch.Size([1024]) False\n",
            "layer4.0.bn1.bias torch.Size([1024]) False\n",
            "layer4.0.conv2.weight torch.Size([1024, 1024, 3, 3]) False\n",
            "layer4.0.bn2.weight torch.Size([1024]) False\n",
            "layer4.0.bn2.bias torch.Size([1024]) False\n",
            "layer4.0.conv3.weight torch.Size([2048, 1024, 1, 1]) False\n",
            "layer4.0.bn3.weight torch.Size([2048]) False\n",
            "layer4.0.bn3.bias torch.Size([2048]) False\n",
            "layer4.0.downsample.0.weight torch.Size([2048, 1024, 1, 1]) False\n",
            "layer4.0.downsample.1.weight torch.Size([2048]) False\n",
            "layer4.0.downsample.1.bias torch.Size([2048]) False\n",
            "layer4.1.conv1.weight torch.Size([1024, 2048, 1, 1]) False\n",
            "layer4.1.bn1.weight torch.Size([1024]) False\n",
            "layer4.1.bn1.bias torch.Size([1024]) False\n",
            "layer4.1.conv2.weight torch.Size([1024, 1024, 3, 3]) False\n",
            "layer4.1.bn2.weight torch.Size([1024]) False\n",
            "layer4.1.bn2.bias torch.Size([1024]) False\n",
            "layer4.1.conv3.weight torch.Size([2048, 1024, 1, 1]) False\n",
            "layer4.1.bn3.weight torch.Size([2048]) False\n",
            "layer4.1.bn3.bias torch.Size([2048]) False\n",
            "layer4.2.conv1.weight torch.Size([1024, 2048, 1, 1]) False\n",
            "layer4.2.bn1.weight torch.Size([1024]) False\n",
            "layer4.2.bn1.bias torch.Size([1024]) False\n",
            "layer4.2.conv2.weight torch.Size([1024, 1024, 3, 3]) False\n",
            "layer4.2.bn2.weight torch.Size([1024]) False\n",
            "layer4.2.bn2.bias torch.Size([1024]) False\n",
            "layer4.2.conv3.weight torch.Size([2048, 1024, 1, 1]) False\n",
            "layer4.2.bn3.weight torch.Size([2048]) False\n",
            "layer4.2.bn3.bias torch.Size([2048]) False\n",
            "fc.weight torch.Size([101, 2048]) True\n",
            "fc.bias torch.Size([101]) True\n"
          ]
        }
      ]
    },
    {
      "cell_type": "code",
      "metadata": {
        "colab": {
          "base_uri": "https://localhost:8080/"
        },
        "id": "1UlYkUGb-4cU",
        "outputId": "10f614f0-1202-40f9-8647-a0114c7d0313"
      },
      "source": [
        "train_loss , train_accuracy = [], []\n",
        "val_loss , val_accuracy = [], []\n",
        "\n",
        "print(f\"Training on {len(train_data)} examples, validating on {len(test_data)} examples...\")\n",
        "start = time.time()\n",
        "\n",
        "for epoch in range(epochs):\n",
        "    print(f\"Epoch {epoch+1} of {epochs}\")\n",
        "    train_epoch_loss, train_epoch_accuracy = fit(wide_resnet, trainloader,optimizer,criterion)\n",
        "    val_epoch_loss, val_epoch_accuracy = validate(wide_resnet, testloader,optimizer,criterion)\n",
        "    train_loss.append(train_epoch_loss)\n",
        "    train_accuracy.append(train_epoch_accuracy)\n",
        "    val_loss.append(val_epoch_loss)\n",
        "    val_accuracy.append(val_epoch_accuracy)\n",
        "\n",
        "end = time.time()\n",
        "print((end-start)/60, 'minutes')\n",
        "torch.save(wide_resnet.state_dict(), f\"/content/outputs/wide_resnet-epochs{epochs}.pth\")"
      ],
      "execution_count": 55,
      "outputs": [
        {
          "output_type": "stream",
          "name": "stdout",
          "text": [
            "Training on 6941 examples, validating on 1736 examples...\n",
            "Epoch 1 of 10\n",
            "Training\n"
          ]
        },
        {
          "output_type": "stream",
          "name": "stderr",
          "text": [
            "434it [01:50,  3.92it/s]\n"
          ]
        },
        {
          "output_type": "stream",
          "name": "stdout",
          "text": [
            "Train Loss: 0.2899, Train Acc: 3.62\n",
            "Validating\n"
          ]
        },
        {
          "output_type": "stream",
          "name": "stderr",
          "text": [
            "109it [00:29,  3.68it/s]\n"
          ]
        },
        {
          "output_type": "stream",
          "name": "stdout",
          "text": [
            "Test Loss: 0.2923, Test Acc: 1.90\n",
            "Epoch 2 of 10\n",
            "Training\n"
          ]
        },
        {
          "output_type": "stream",
          "name": "stderr",
          "text": [
            "434it [01:46,  4.09it/s]\n"
          ]
        },
        {
          "output_type": "stream",
          "name": "stdout",
          "text": [
            "Train Loss: 0.2899, Train Acc: 3.85\n",
            "Validating\n"
          ]
        },
        {
          "output_type": "stream",
          "name": "stderr",
          "text": [
            "109it [00:25,  4.23it/s]\n"
          ]
        },
        {
          "output_type": "stream",
          "name": "stdout",
          "text": [
            "Test Loss: 0.2918, Test Acc: 2.94\n",
            "Epoch 3 of 10\n",
            "Training\n"
          ]
        },
        {
          "output_type": "stream",
          "name": "stderr",
          "text": [
            "434it [01:46,  4.06it/s]\n"
          ]
        },
        {
          "output_type": "stream",
          "name": "stdout",
          "text": [
            "Train Loss: 0.2900, Train Acc: 3.60\n",
            "Validating\n"
          ]
        },
        {
          "output_type": "stream",
          "name": "stderr",
          "text": [
            "109it [00:25,  4.22it/s]\n"
          ]
        },
        {
          "output_type": "stream",
          "name": "stdout",
          "text": [
            "Test Loss: 0.2922, Test Acc: 3.11\n",
            "Epoch 4 of 10\n",
            "Training\n"
          ]
        },
        {
          "output_type": "stream",
          "name": "stderr",
          "text": [
            "434it [01:46,  4.08it/s]\n"
          ]
        },
        {
          "output_type": "stream",
          "name": "stdout",
          "text": [
            "Train Loss: 0.2899, Train Acc: 3.67\n",
            "Validating\n"
          ]
        },
        {
          "output_type": "stream",
          "name": "stderr",
          "text": [
            "109it [00:25,  4.23it/s]\n"
          ]
        },
        {
          "output_type": "stream",
          "name": "stdout",
          "text": [
            "Test Loss: 0.2925, Test Acc: 2.36\n",
            "Epoch 5 of 10\n",
            "Training\n"
          ]
        },
        {
          "output_type": "stream",
          "name": "stderr",
          "text": [
            "434it [01:46,  4.08it/s]\n"
          ]
        },
        {
          "output_type": "stream",
          "name": "stdout",
          "text": [
            "Train Loss: 0.2899, Train Acc: 3.57\n",
            "Validating\n"
          ]
        },
        {
          "output_type": "stream",
          "name": "stderr",
          "text": [
            "109it [00:25,  4.23it/s]\n"
          ]
        },
        {
          "output_type": "stream",
          "name": "stdout",
          "text": [
            "Test Loss: 0.2921, Test Acc: 2.65\n",
            "Epoch 6 of 10\n",
            "Training\n"
          ]
        },
        {
          "output_type": "stream",
          "name": "stderr",
          "text": [
            "434it [01:46,  4.06it/s]\n"
          ]
        },
        {
          "output_type": "stream",
          "name": "stdout",
          "text": [
            "Train Loss: 0.2898, Train Acc: 3.80\n",
            "Validating\n"
          ]
        },
        {
          "output_type": "stream",
          "name": "stderr",
          "text": [
            "109it [00:25,  4.23it/s]\n"
          ]
        },
        {
          "output_type": "stream",
          "name": "stdout",
          "text": [
            "Test Loss: 0.2920, Test Acc: 2.42\n",
            "Epoch 7 of 10\n",
            "Training\n"
          ]
        },
        {
          "output_type": "stream",
          "name": "stderr",
          "text": [
            "434it [01:46,  4.08it/s]\n"
          ]
        },
        {
          "output_type": "stream",
          "name": "stdout",
          "text": [
            "Train Loss: 0.2899, Train Acc: 3.46\n",
            "Validating\n"
          ]
        },
        {
          "output_type": "stream",
          "name": "stderr",
          "text": [
            "109it [00:25,  4.24it/s]\n"
          ]
        },
        {
          "output_type": "stream",
          "name": "stdout",
          "text": [
            "Test Loss: 0.2922, Test Acc: 1.73\n",
            "Epoch 8 of 10\n",
            "Training\n"
          ]
        },
        {
          "output_type": "stream",
          "name": "stderr",
          "text": [
            "434it [01:46,  4.09it/s]\n"
          ]
        },
        {
          "output_type": "stream",
          "name": "stdout",
          "text": [
            "Train Loss: 0.2899, Train Acc: 3.96\n",
            "Validating\n"
          ]
        },
        {
          "output_type": "stream",
          "name": "stderr",
          "text": [
            "109it [00:25,  4.24it/s]\n"
          ]
        },
        {
          "output_type": "stream",
          "name": "stdout",
          "text": [
            "Test Loss: 0.2921, Test Acc: 2.59\n",
            "Epoch 9 of 10\n",
            "Training\n"
          ]
        },
        {
          "output_type": "stream",
          "name": "stderr",
          "text": [
            "434it [01:46,  4.08it/s]\n"
          ]
        },
        {
          "output_type": "stream",
          "name": "stdout",
          "text": [
            "Train Loss: 0.2900, Train Acc: 3.65\n",
            "Validating\n"
          ]
        },
        {
          "output_type": "stream",
          "name": "stderr",
          "text": [
            "109it [00:25,  4.24it/s]\n"
          ]
        },
        {
          "output_type": "stream",
          "name": "stdout",
          "text": [
            "Test Loss: 0.2922, Test Acc: 2.53\n",
            "Epoch 10 of 10\n",
            "Training\n"
          ]
        },
        {
          "output_type": "stream",
          "name": "stderr",
          "text": [
            "434it [01:46,  4.09it/s]\n"
          ]
        },
        {
          "output_type": "stream",
          "name": "stdout",
          "text": [
            "Train Loss: 0.2898, Train Acc: 3.49\n",
            "Validating\n"
          ]
        },
        {
          "output_type": "stream",
          "name": "stderr",
          "text": [
            "109it [00:25,  4.24it/s]\n"
          ]
        },
        {
          "output_type": "stream",
          "name": "stdout",
          "text": [
            "Test Loss: 0.2921, Test Acc: 2.36\n",
            "22.171361712614694 minutes\n"
          ]
        }
      ]
    },
    {
      "cell_type": "markdown",
      "source": [
        "Accuracy plots"
      ],
      "metadata": {
        "id": "2rdFXitD2xP0"
      }
    },
    {
      "cell_type": "code",
      "source": [
        "plt.figure(figsize=(10, 7))\n",
        "plt.plot(train_accuracy, color='green', label='train accuracy')\n",
        "plt.plot(val_accuracy, color='blue', label='test accuracy')\n",
        "plt.xlabel('Epochs')\n",
        "plt.ylabel('Accuracy')\n",
        "plt.legend()\n",
        "plt.savefig('/content/outputs/wide_resnet-accuracy.png')"
      ],
      "metadata": {
        "colab": {
          "base_uri": "https://localhost:8080/",
          "height": 445
        },
        "id": "uHDt5GlZ2vvT",
        "outputId": "9ac5bf6a-2246-442a-ca46-3085d8b8afd8"
      },
      "execution_count": 56,
      "outputs": [
        {
          "output_type": "display_data",
          "data": {
            "image/png": "[encoded data removed]",
            "text/plain": [
              "<Figure size 720x504 with 1 Axes>"
            ]
          },
          "metadata": {}
        }
      ]
    },
    {
      "cell_type": "markdown",
      "source": [
        "Loss plots"
      ],
      "metadata": {
        "id": "j8kqYQY12xd0"
      }
    },
    {
      "cell_type": "code",
      "source": [
        "plt.figure(figsize=(10, 7))\n",
        "plt.plot(train_loss, color='orange', label='train loss')\n",
        "plt.plot(val_loss, color='red', label='validataion loss')\n",
        "plt.xlabel('Epochs')\n",
        "plt.ylabel('Loss')\n",
        "plt.legend()\n",
        "plt.savefig('/content/outputs/wide_resnet-loss.png')"
      ],
      "metadata": {
        "colab": {
          "base_uri": "https://localhost:8080/",
          "height": 445
        },
        "id": "T87fErMB2wiE",
        "outputId": "86b62bf7-ed87-42b2-d9b5-e9eac1c3c087"
      },
      "execution_count": 57,
      "outputs": [
        {
          "output_type": "display_data",
          "data": {
            "image/png": "[encoded data removed]",
            "text/plain": [
              "<Figure size 720x504 with 1 Axes>"
            ]
          },
          "metadata": {}
        }
      ]
    },
    {
      "cell_type": "code",
      "metadata": {
        "colab": {
          "base_uri": "https://localhost:8080/"
        },
        "id": "y0nY0hEYBIl0",
        "outputId": "9f348ebf-a4c1-4699-df65-aa693e5aedd6"
      },
      "source": [
        "wide_resnet_ft = models.wide_resnet50_2(pretrained=True).to(device)\n",
        "\n",
        "# freeze filter weights for the first 8 layers (out of 10)\n",
        "ct = 0\n",
        "for child in wide_resnet_ft.children():\n",
        "  ct += 1\n",
        "  if ct < 8:\n",
        "      for param in child.parameters():\n",
        "          param.requires_grad = False\n",
        "  else:\n",
        "      for param in child.parameters():\n",
        "          param.requires_grad = True\n",
        "\n",
        "num_ftrs = wide_resnet_ft.fc.in_features\n",
        "wide_resnet_ft.fc = nn.Linear(num_ftrs, 101)\n",
        "wide_resnet_ft = wide_resnet_ft.to(device)\n",
        "\n",
        "for name, param in wide_resnet_ft.named_parameters():\n",
        "    print(name, param.size(), param.requires_grad)"
      ],
      "execution_count": 58,
      "outputs": [
        {
          "output_type": "stream",
          "name": "stdout",
          "text": [
            "conv1.weight torch.Size([64, 3, 7, 7]) False\n",
            "bn1.weight torch.Size([64]) False\n",
            "bn1.bias torch.Size([64]) False\n",
            "layer1.0.conv1.weight torch.Size([128, 64, 1, 1]) False\n",
            "layer1.0.bn1.weight torch.Size([128]) False\n",
            "layer1.0.bn1.bias torch.Size([128]) False\n",
            "layer1.0.conv2.weight torch.Size([128, 128, 3, 3]) False\n",
            "layer1.0.bn2.weight torch.Size([128]) False\n",
            "layer1.0.bn2.bias torch.Size([128]) False\n",
            "layer1.0.conv3.weight torch.Size([256, 128, 1, 1]) False\n",
            "layer1.0.bn3.weight torch.Size([256]) False\n",
            "layer1.0.bn3.bias torch.Size([256]) False\n",
            "layer1.0.downsample.0.weight torch.Size([256, 64, 1, 1]) False\n",
            "layer1.0.downsample.1.weight torch.Size([256]) False\n",
            "layer1.0.downsample.1.bias torch.Size([256]) False\n",
            "layer1.1.conv1.weight torch.Size([128, 256, 1, 1]) False\n",
            "layer1.1.bn1.weight torch.Size([128]) False\n",
            "layer1.1.bn1.bias torch.Size([128]) False\n",
            "layer1.1.conv2.weight torch.Size([128, 128, 3, 3]) False\n",
            "layer1.1.bn2.weight torch.Size([128]) False\n",
            "layer1.1.bn2.bias torch.Size([128]) False\n",
            "layer1.1.conv3.weight torch.Size([256, 128, 1, 1]) False\n",
            "layer1.1.bn3.weight torch.Size([256]) False\n",
            "layer1.1.bn3.bias torch.Size([256]) False\n",
            "layer1.2.conv1.weight torch.Size([128, 256, 1, 1]) False\n",
            "layer1.2.bn1.weight torch.Size([128]) False\n",
            "layer1.2.bn1.bias torch.Size([128]) False\n",
            "layer1.2.conv2.weight torch.Size([128, 128, 3, 3]) False\n",
            "layer1.2.bn2.weight torch.Size([128]) False\n",
            "layer1.2.bn2.bias torch.Size([128]) False\n",
            "layer1.2.conv3.weight torch.Size([256, 128, 1, 1]) False\n",
            "layer1.2.bn3.weight torch.Size([256]) False\n",
            "layer1.2.bn3.bias torch.Size([256]) False\n",
            "layer2.0.conv1.weight torch.Size([256, 256, 1, 1]) False\n",
            "layer2.0.bn1.weight torch.Size([256]) False\n",
            "layer2.0.bn1.bias torch.Size([256]) False\n",
            "layer2.0.conv2.weight torch.Size([256, 256, 3, 3]) False\n",
            "layer2.0.bn2.weight torch.Size([256]) False\n",
            "layer2.0.bn2.bias torch.Size([256]) False\n",
            "layer2.0.conv3.weight torch.Size([512, 256, 1, 1]) False\n",
            "layer2.0.bn3.weight torch.Size([512]) False\n",
            "layer2.0.bn3.bias torch.Size([512]) False\n",
            "layer2.0.downsample.0.weight torch.Size([512, 256, 1, 1]) False\n",
            "layer2.0.downsample.1.weight torch.Size([512]) False\n",
            "layer2.0.downsample.1.bias torch.Size([512]) False\n",
            "layer2.1.conv1.weight torch.Size([256, 512, 1, 1]) False\n",
            "layer2.1.bn1.weight torch.Size([256]) False\n",
            "layer2.1.bn1.bias torch.Size([256]) False\n",
            "layer2.1.conv2.weight torch.Size([256, 256, 3, 3]) False\n",
            "layer2.1.bn2.weight torch.Size([256]) False\n",
            "layer2.1.bn2.bias torch.Size([256]) False\n",
            "layer2.1.conv3.weight torch.Size([512, 256, 1, 1]) False\n",
            "layer2.1.bn3.weight torch.Size([512]) False\n",
            "layer2.1.bn3.bias torch.Size([512]) False\n",
            "layer2.2.conv1.weight torch.Size([256, 512, 1, 1]) False\n",
            "layer2.2.bn1.weight torch.Size([256]) False\n",
            "layer2.2.bn1.bias torch.Size([256]) False\n",
            "layer2.2.conv2.weight torch.Size([256, 256, 3, 3]) False\n",
            "layer2.2.bn2.weight torch.Size([256]) False\n",
            "layer2.2.bn2.bias torch.Size([256]) False\n",
            "layer2.2.conv3.weight torch.Size([512, 256, 1, 1]) False\n",
            "layer2.2.bn3.weight torch.Size([512]) False\n",
            "layer2.2.bn3.bias torch.Size([512]) False\n",
            "layer2.3.conv1.weight torch.Size([256, 512, 1, 1]) False\n",
            "layer2.3.bn1.weight torch.Size([256]) False\n",
            "layer2.3.bn1.bias torch.Size([256]) False\n",
            "layer2.3.conv2.weight torch.Size([256, 256, 3, 3]) False\n",
            "layer2.3.bn2.weight torch.Size([256]) False\n",
            "layer2.3.bn2.bias torch.Size([256]) False\n",
            "layer2.3.conv3.weight torch.Size([512, 256, 1, 1]) False\n",
            "layer2.3.bn3.weight torch.Size([512]) False\n",
            "layer2.3.bn3.bias torch.Size([512]) False\n",
            "layer3.0.conv1.weight torch.Size([512, 512, 1, 1]) False\n",
            "layer3.0.bn1.weight torch.Size([512]) False\n",
            "layer3.0.bn1.bias torch.Size([512]) False\n",
            "layer3.0.conv2.weight torch.Size([512, 512, 3, 3]) False\n",
            "layer3.0.bn2.weight torch.Size([512]) False\n",
            "layer3.0.bn2.bias torch.Size([512]) False\n",
            "layer3.0.conv3.weight torch.Size([1024, 512, 1, 1]) False\n",
            "layer3.0.bn3.weight torch.Size([1024]) False\n",
            "layer3.0.bn3.bias torch.Size([1024]) False\n",
            "layer3.0.downsample.0.weight torch.Size([1024, 512, 1, 1]) False\n",
            "layer3.0.downsample.1.weight torch.Size([1024]) False\n",
            "layer3.0.downsample.1.bias torch.Size([1024]) False\n",
            "layer3.1.conv1.weight torch.Size([512, 1024, 1, 1]) False\n",
            "layer3.1.bn1.weight torch.Size([512]) False\n",
            "layer3.1.bn1.bias torch.Size([512]) False\n",
            "layer3.1.conv2.weight torch.Size([512, 512, 3, 3]) False\n",
            "layer3.1.bn2.weight torch.Size([512]) False\n",
            "layer3.1.bn2.bias torch.Size([512]) False\n",
            "layer3.1.conv3.weight torch.Size([1024, 512, 1, 1]) False\n",
            "layer3.1.bn3.weight torch.Size([1024]) False\n",
            "layer3.1.bn3.bias torch.Size([1024]) False\n",
            "layer3.2.conv1.weight torch.Size([512, 1024, 1, 1]) False\n",
            "layer3.2.bn1.weight torch.Size([512]) False\n",
            "layer3.2.bn1.bias torch.Size([512]) False\n",
            "layer3.2.conv2.weight torch.Size([512, 512, 3, 3]) False\n",
            "layer3.2.bn2.weight torch.Size([512]) False\n",
            "layer3.2.bn2.bias torch.Size([512]) False\n",
            "layer3.2.conv3.weight torch.Size([1024, 512, 1, 1]) False\n",
            "layer3.2.bn3.weight torch.Size([1024]) False\n",
            "layer3.2.bn3.bias torch.Size([1024]) False\n",
            "layer3.3.conv1.weight torch.Size([512, 1024, 1, 1]) False\n",
            "layer3.3.bn1.weight torch.Size([512]) False\n",
            "layer3.3.bn1.bias torch.Size([512]) False\n",
            "layer3.3.conv2.weight torch.Size([512, 512, 3, 3]) False\n",
            "layer3.3.bn2.weight torch.Size([512]) False\n",
            "layer3.3.bn2.bias torch.Size([512]) False\n",
            "layer3.3.conv3.weight torch.Size([1024, 512, 1, 1]) False\n",
            "layer3.3.bn3.weight torch.Size([1024]) False\n",
            "layer3.3.bn3.bias torch.Size([1024]) False\n",
            "layer3.4.conv1.weight torch.Size([512, 1024, 1, 1]) False\n",
            "layer3.4.bn1.weight torch.Size([512]) False\n",
            "layer3.4.bn1.bias torch.Size([512]) False\n",
            "layer3.4.conv2.weight torch.Size([512, 512, 3, 3]) False\n",
            "layer3.4.bn2.weight torch.Size([512]) False\n",
            "layer3.4.bn2.bias torch.Size([512]) False\n",
            "layer3.4.conv3.weight torch.Size([1024, 512, 1, 1]) False\n",
            "layer3.4.bn3.weight torch.Size([1024]) False\n",
            "layer3.4.bn3.bias torch.Size([1024]) False\n",
            "layer3.5.conv1.weight torch.Size([512, 1024, 1, 1]) False\n",
            "layer3.5.bn1.weight torch.Size([512]) False\n",
            "layer3.5.bn1.bias torch.Size([512]) False\n",
            "layer3.5.conv2.weight torch.Size([512, 512, 3, 3]) False\n",
            "layer3.5.bn2.weight torch.Size([512]) False\n",
            "layer3.5.bn2.bias torch.Size([512]) False\n",
            "layer3.5.conv3.weight torch.Size([1024, 512, 1, 1]) False\n",
            "layer3.5.bn3.weight torch.Size([1024]) False\n",
            "layer3.5.bn3.bias torch.Size([1024]) False\n",
            "layer4.0.conv1.weight torch.Size([1024, 1024, 1, 1]) True\n",
            "layer4.0.bn1.weight torch.Size([1024]) True\n",
            "layer4.0.bn1.bias torch.Size([1024]) True\n",
            "layer4.0.conv2.weight torch.Size([1024, 1024, 3, 3]) True\n",
            "layer4.0.bn2.weight torch.Size([1024]) True\n",
            "layer4.0.bn2.bias torch.Size([1024]) True\n",
            "layer4.0.conv3.weight torch.Size([2048, 1024, 1, 1]) True\n",
            "layer4.0.bn3.weight torch.Size([2048]) True\n",
            "layer4.0.bn3.bias torch.Size([2048]) True\n",
            "layer4.0.downsample.0.weight torch.Size([2048, 1024, 1, 1]) True\n",
            "layer4.0.downsample.1.weight torch.Size([2048]) True\n",
            "layer4.0.downsample.1.bias torch.Size([2048]) True\n",
            "layer4.1.conv1.weight torch.Size([1024, 2048, 1, 1]) True\n",
            "layer4.1.bn1.weight torch.Size([1024]) True\n",
            "layer4.1.bn1.bias torch.Size([1024]) True\n",
            "layer4.1.conv2.weight torch.Size([1024, 1024, 3, 3]) True\n",
            "layer4.1.bn2.weight torch.Size([1024]) True\n",
            "layer4.1.bn2.bias torch.Size([1024]) True\n",
            "layer4.1.conv3.weight torch.Size([2048, 1024, 1, 1]) True\n",
            "layer4.1.bn3.weight torch.Size([2048]) True\n",
            "layer4.1.bn3.bias torch.Size([2048]) True\n",
            "layer4.2.conv1.weight torch.Size([1024, 2048, 1, 1]) True\n",
            "layer4.2.bn1.weight torch.Size([1024]) True\n",
            "layer4.2.bn1.bias torch.Size([1024]) True\n",
            "layer4.2.conv2.weight torch.Size([1024, 1024, 3, 3]) True\n",
            "layer4.2.bn2.weight torch.Size([1024]) True\n",
            "layer4.2.bn2.bias torch.Size([1024]) True\n",
            "layer4.2.conv3.weight torch.Size([2048, 1024, 1, 1]) True\n",
            "layer4.2.bn3.weight torch.Size([2048]) True\n",
            "layer4.2.bn3.bias torch.Size([2048]) True\n",
            "fc.weight torch.Size([101, 2048]) True\n",
            "fc.bias torch.Size([101]) True\n"
          ]
        }
      ]
    },
    {
      "cell_type": "code",
      "metadata": {
        "id": "MlO4NhK2CAsd",
        "colab": {
          "base_uri": "https://localhost:8080/"
        },
        "outputId": "c5f512a5-611d-4383-c67a-3a4abcadfa4b"
      },
      "source": [
        "epochs = 5\n",
        "train_loss , train_accuracy = [], []\n",
        "val_loss , val_accuracy = [], []\n",
        "\n",
        "# optimizer\n",
        "optimizer2 = optim.Adam(wide_resnet_ft.parameters(), lr=1e-3)\n",
        "# loss function\n",
        "criterion2 = nn.CrossEntropyLoss()\n",
        "\n",
        "print(f\"Training on {len(train_data)} examples, validating on {len(test_data)} examples...\")\n",
        "start = time.time()\n",
        "\n",
        "for epoch in range(epochs):\n",
        "    print(f\"Epoch {epoch+1} of {epochs}\")\n",
        "    train_epoch_loss, train_epoch_accuracy = fit(wide_resnet_ft,\n",
        "                                                 trainloader,\n",
        "                                                 optimizer2,\n",
        "                                                 criterion2)\n",
        "    val_epoch_loss, val_epoch_accuracy = validate(wide_resnet_ft,\n",
        "                                                  testloader,\n",
        "                                                  optimizer2,\n",
        "                                                  criterion2)\n",
        "    train_loss.append(train_epoch_loss)\n",
        "    train_accuracy.append(train_epoch_accuracy)\n",
        "    val_loss.append(val_epoch_loss)\n",
        "    val_accuracy.append(val_epoch_accuracy)"
      ],
      "execution_count": null,
      "outputs": [
        {
          "output_type": "stream",
          "name": "stdout",
          "text": [
            "Training on 6941 examples, validating on 1736 examples...\n",
            "Epoch 1 of 5\n",
            "Training\n"
          ]
        },
        {
          "output_type": "stream",
          "name": "stderr",
          "text": [
            " 20%|██        | 88/433 [00:30<01:49,  3.16it/s]"
          ]
        }
      ]
    },
    {
      "cell_type": "code",
      "metadata": {
        "id": "zMGMik5aJmgQ"
      },
      "source": [
        "end = time.time()\n",
        "print((end-start)/60, 'minutes')\n",
        "torch.save(wide_resnet_ft.state_dict(), f\"/content/outputs/wide_resnet_ft-epochs{epochs}.pth\")\n",
        "# accuracy plots\n",
        "plt.figure(figsize=(10, 7))\n",
        "plt.plot(train_accuracy, color='green', label='train accuracy')\n",
        "plt.plot(val_accuracy, color='blue', label='test accuracy')\n",
        "plt.xlabel('Epochs')\n",
        "plt.ylabel('Accuracy')\n",
        "plt.legend()\n",
        "plt.savefig('/content/outputs/wide_resnet_ft-accuracy.png')\n",
        "# loss plots\n",
        "plt.figure(figsize=(10, 7))\n",
        "plt.plot(train_loss, color='orange', label='train loss')\n",
        "plt.plot(val_loss, color='red', label='validataion loss')\n",
        "plt.xlabel('Epochs')\n",
        "plt.ylabel('Loss')\n",
        "plt.legend()\n",
        "plt.savefig('/content/outputs/wide_resnet_ft-loss.png')"
      ],
      "execution_count": null,
      "outputs": []
    },
    {
      "cell_type": "code",
      "metadata": {
        "id": "IbsD5VnpJ1KU"
      },
      "source": [
        "import cv2\n",
        "from PIL import Image\n",
        "\n",
        "net.load_state_dict(torch.load('/content/outputs/cnn-epochs20.pth'))\n",
        "net.eval()\n",
        "\n",
        "# load one batch of testing images\n",
        "dataiter = iter(testloader)\n",
        "images, labels = dataiter.next()\n",
        "images = images.numpy()\n",
        "\n",
        "# select an image by index\n",
        "idx = 3\n",
        "img = np.squeeze(images[idx])\n",
        "# print(img.shape)\n",
        "\n",
        "img = np.moveaxis(img, 0, -1)\n",
        "# img = cv2.cvtColor(img, cv2.COLOR_BGR2RGB)\n",
        "# use OpenCV's filter2D function\n",
        "# apply a specific set of filter weights (like the one's displayed above) to the test image\n",
        "# print(img.shape)\n",
        "plt.imshow(np.asarray(img))\n",
        "\n",
        "# first conv layer - for 10 filters\n",
        "weights = net.conv1.weight.data\n",
        "w = weights.cpu().numpy()\n",
        "fig=plt.figure(figsize=(30, 10))\n",
        "columns = 10\n",
        "rows = 2\n",
        "\n",
        "for i in range(0, columns*rows):\n",
        "    fig.add_subplot(rows, columns, i+1)\n",
        "    if ((i%2)==0):\n",
        "        plt.imshow(w[int(i/2)][0])\n",
        "    else:\n",
        "        c = cv2.filter2D(img, -1, w[int((i-1)/2)][0])\n",
        "        plt.imshow(cv2.cvtColor(c, cv2.COLOR_BGR2RGB))\n",
        "plt.show()"
      ],
      "execution_count": null,
      "outputs": []
    }
  ]
}